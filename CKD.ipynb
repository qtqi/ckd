{
 "cells": [
  {
   "cell_type": "code",
   "execution_count": 5,
   "metadata": {},
   "outputs": [],
   "source": [
    "import pandas as pd\n",
    "import numpy as np\n",
    "import matplotlib.pyplot as plt"
   ]
  },
  {
   "cell_type": "code",
   "execution_count": 6,
   "metadata": {},
   "outputs": [],
   "source": [
    "df=pd.read_csv('4163.csv')"
   ]
  },
  {
   "cell_type": "code",
   "execution_count": 7,
   "metadata": {},
   "outputs": [
    {
     "data": {
      "text/html": [
       "<div>\n",
       "<style scoped>\n",
       "    .dataframe tbody tr th:only-of-type {\n",
       "        vertical-align: middle;\n",
       "    }\n",
       "\n",
       "    .dataframe tbody tr th {\n",
       "        vertical-align: top;\n",
       "    }\n",
       "\n",
       "    .dataframe thead th {\n",
       "        text-align: right;\n",
       "    }\n",
       "</style>\n",
       "<table border=\"1\" class=\"dataframe\">\n",
       "  <thead>\n",
       "    <tr style=\"text-align: right;\">\n",
       "      <th></th>\n",
       "      <th>id</th>\n",
       "      <th>Age</th>\n",
       "      <th>Female</th>\n",
       "      <th>Educ</th>\n",
       "      <th>Unmarried</th>\n",
       "      <th>Income</th>\n",
       "      <th>Insured</th>\n",
       "      <th>Weight</th>\n",
       "      <th>Height</th>\n",
       "      <th>BMI</th>\n",
       "      <th>...</th>\n",
       "      <th>Anemia</th>\n",
       "      <th>CKD</th>\n",
       "      <th>Racegrpblack</th>\n",
       "      <th>Racegrphispa</th>\n",
       "      <th>Racegrpother</th>\n",
       "      <th>Racegrpwhite</th>\n",
       "      <th>CareSourceclinic</th>\n",
       "      <th>CareSourceDrHMO</th>\n",
       "      <th>CareSourcenoplace</th>\n",
       "      <th>CareSourceother</th>\n",
       "    </tr>\n",
       "  </thead>\n",
       "  <tbody>\n",
       "    <tr>\n",
       "      <th>0</th>\n",
       "      <td>1</td>\n",
       "      <td>65</td>\n",
       "      <td>1</td>\n",
       "      <td>0</td>\n",
       "      <td>0</td>\n",
       "      <td>1</td>\n",
       "      <td>1</td>\n",
       "      <td>56.0</td>\n",
       "      <td>162.1</td>\n",
       "      <td>21.31</td>\n",
       "      <td>...</td>\n",
       "      <td>0</td>\n",
       "      <td>0</td>\n",
       "      <td>0</td>\n",
       "      <td>0</td>\n",
       "      <td>0</td>\n",
       "      <td>1</td>\n",
       "      <td>0</td>\n",
       "      <td>0</td>\n",
       "      <td>0</td>\n",
       "      <td>1</td>\n",
       "    </tr>\n",
       "    <tr>\n",
       "      <th>1</th>\n",
       "      <td>3</td>\n",
       "      <td>66</td>\n",
       "      <td>1</td>\n",
       "      <td>0</td>\n",
       "      <td>1</td>\n",
       "      <td>0</td>\n",
       "      <td>1</td>\n",
       "      <td>83.9</td>\n",
       "      <td>162.5</td>\n",
       "      <td>31.77</td>\n",
       "      <td>...</td>\n",
       "      <td>0</td>\n",
       "      <td>0</td>\n",
       "      <td>0</td>\n",
       "      <td>0</td>\n",
       "      <td>0</td>\n",
       "      <td>1</td>\n",
       "      <td>0</td>\n",
       "      <td>0</td>\n",
       "      <td>1</td>\n",
       "      <td>0</td>\n",
       "    </tr>\n",
       "    <tr>\n",
       "      <th>2</th>\n",
       "      <td>4</td>\n",
       "      <td>54</td>\n",
       "      <td>1</td>\n",
       "      <td>1</td>\n",
       "      <td>0</td>\n",
       "      <td>0</td>\n",
       "      <td>1</td>\n",
       "      <td>69.4</td>\n",
       "      <td>160.5</td>\n",
       "      <td>26.94</td>\n",
       "      <td>...</td>\n",
       "      <td>0</td>\n",
       "      <td>0</td>\n",
       "      <td>0</td>\n",
       "      <td>0</td>\n",
       "      <td>0</td>\n",
       "      <td>1</td>\n",
       "      <td>0</td>\n",
       "      <td>1</td>\n",
       "      <td>0</td>\n",
       "      <td>0</td>\n",
       "    </tr>\n",
       "    <tr>\n",
       "      <th>3</th>\n",
       "      <td>6</td>\n",
       "      <td>26</td>\n",
       "      <td>0</td>\n",
       "      <td>1</td>\n",
       "      <td>0</td>\n",
       "      <td>0</td>\n",
       "      <td>1</td>\n",
       "      <td>119.3</td>\n",
       "      <td>193.2</td>\n",
       "      <td>31.96</td>\n",
       "      <td>...</td>\n",
       "      <td>0</td>\n",
       "      <td>0</td>\n",
       "      <td>0</td>\n",
       "      <td>0</td>\n",
       "      <td>0</td>\n",
       "      <td>1</td>\n",
       "      <td>0</td>\n",
       "      <td>1</td>\n",
       "      <td>0</td>\n",
       "      <td>0</td>\n",
       "    </tr>\n",
       "    <tr>\n",
       "      <th>4</th>\n",
       "      <td>7</td>\n",
       "      <td>66</td>\n",
       "      <td>0</td>\n",
       "      <td>1</td>\n",
       "      <td>0</td>\n",
       "      <td>0</td>\n",
       "      <td>0</td>\n",
       "      <td>85.1</td>\n",
       "      <td>172.1</td>\n",
       "      <td>28.73</td>\n",
       "      <td>...</td>\n",
       "      <td>0</td>\n",
       "      <td>0</td>\n",
       "      <td>1</td>\n",
       "      <td>0</td>\n",
       "      <td>0</td>\n",
       "      <td>0</td>\n",
       "      <td>0</td>\n",
       "      <td>1</td>\n",
       "      <td>0</td>\n",
       "      <td>0</td>\n",
       "    </tr>\n",
       "  </tbody>\n",
       "</table>\n",
       "<p>5 rows × 40 columns</p>\n",
       "</div>"
      ],
      "text/plain": [
       "   id  Age  Female  Educ  Unmarried  Income  Insured  Weight  Height    BMI  \\\n",
       "0   1   65       1     0          0       1        1    56.0   162.1  21.31   \n",
       "1   3   66       1     0          1       0        1    83.9   162.5  31.77   \n",
       "2   4   54       1     1          0       0        1    69.4   160.5  26.94   \n",
       "3   6   26       0     1          0       0        1   119.3   193.2  31.96   \n",
       "4   7   66       0     1          0       0        0    85.1   172.1  28.73   \n",
       "\n",
       "   ...  Anemia  CKD  Racegrpblack  Racegrphispa  Racegrpother  Racegrpwhite  \\\n",
       "0  ...       0    0             0             0             0             1   \n",
       "1  ...       0    0             0             0             0             1   \n",
       "2  ...       0    0             0             0             0             1   \n",
       "3  ...       0    0             0             0             0             1   \n",
       "4  ...       0    0             1             0             0             0   \n",
       "\n",
       "   CareSourceclinic  CareSourceDrHMO  CareSourcenoplace  CareSourceother  \n",
       "0                 0                0                  0                1  \n",
       "1                 0                0                  1                0  \n",
       "2                 0                1                  0                0  \n",
       "3                 0                1                  0                0  \n",
       "4                 0                1                  0                0  \n",
       "\n",
       "[5 rows x 40 columns]"
      ]
     },
     "execution_count": 7,
     "metadata": {},
     "output_type": "execute_result"
    }
   ],
   "source": [
    "# look at first 5 rows\n",
    "df.head()"
   ]
  },
  {
   "cell_type": "code",
   "execution_count": 5,
   "metadata": {},
   "outputs": [
    {
     "data": {
      "text/plain": [
       "(4136, 39)"
      ]
     },
     "execution_count": 5,
     "metadata": {},
     "output_type": "execute_result"
    }
   ],
   "source": [
    "# dimension of datase\n",
    "df.shape"
   ]
  },
  {
   "cell_type": "code",
   "execution_count": 8,
   "metadata": {},
   "outputs": [
    {
     "data": {
      "text/plain": [
       "id                     int64\n",
       "Age                    int64\n",
       "Female                 int64\n",
       "Educ                   int64\n",
       "Unmarried              int64\n",
       "Income                 int64\n",
       "Insured                int64\n",
       "Weight               float64\n",
       "Height               float64\n",
       "BMI                  float64\n",
       "Obese                  int64\n",
       "Waist                float64\n",
       "SBP                    int64\n",
       "DBP                    int64\n",
       "HDL                    int64\n",
       "LDL                    int64\n",
       "Total.Chol             int64\n",
       "Dyslipidemia           int64\n",
       "PVD                    int64\n",
       "Activity               int64\n",
       "PoorVision             int64\n",
       "Smoker                 int64\n",
       "Hypertension           int64\n",
       "Fam.Hypertension       int64\n",
       "Diabetes               int64\n",
       "Fam.Diabetes           int64\n",
       "Stroke                 int64\n",
       "CVD                    int64\n",
       "Fam.CVD                int64\n",
       "CHF                    int64\n",
       "Anemia                 int64\n",
       "CKD                    int64\n",
       "Racegrpblack           int64\n",
       "Racegrphispa           int64\n",
       "Racegrpother           int64\n",
       "Racegrpwhite           int64\n",
       "CareSourceclinic       int64\n",
       "CareSourceDrHMO        int64\n",
       "CareSourcenoplace      int64\n",
       "CareSourceother        int64\n",
       "dtype: object"
      ]
     },
     "execution_count": 8,
     "metadata": {},
     "output_type": "execute_result"
    }
   ],
   "source": [
    "# data type of each col\n",
    "df.dtypes"
   ]
  },
  {
   "cell_type": "code",
   "execution_count": 9,
   "metadata": {},
   "outputs": [
    {
     "data": {
      "text/plain": [
       "id                   0.0\n",
       "Age                  0.0\n",
       "Female               0.0\n",
       "Educ                 0.0\n",
       "Unmarried            0.0\n",
       "Income               0.0\n",
       "Insured              0.0\n",
       "Weight               0.0\n",
       "Height               0.0\n",
       "BMI                  0.0\n",
       "Obese                0.0\n",
       "Waist                0.0\n",
       "SBP                  0.0\n",
       "DBP                  0.0\n",
       "HDL                  0.0\n",
       "LDL                  0.0\n",
       "Total.Chol           0.0\n",
       "Dyslipidemia         0.0\n",
       "PVD                  0.0\n",
       "Activity             0.0\n",
       "PoorVision           0.0\n",
       "Smoker               0.0\n",
       "Hypertension         0.0\n",
       "Fam.Hypertension     0.0\n",
       "Diabetes             0.0\n",
       "Fam.Diabetes         0.0\n",
       "Stroke               0.0\n",
       "CVD                  0.0\n",
       "Fam.CVD              0.0\n",
       "CHF                  0.0\n",
       "Anemia               0.0\n",
       "CKD                  0.0\n",
       "Racegrpblack         0.0\n",
       "Racegrphispa         0.0\n",
       "Racegrpother         0.0\n",
       "Racegrpwhite         0.0\n",
       "CareSourceclinic     0.0\n",
       "CareSourceDrHMO      0.0\n",
       "CareSourcenoplace    0.0\n",
       "CareSourceother      0.0\n",
       "dtype: float64"
      ]
     },
     "execution_count": 9,
     "metadata": {},
     "output_type": "execute_result"
    }
   ],
   "source": [
    "# check missing value proportion of each col\n",
    "df.isnull().mean()"
   ]
  },
  {
   "cell_type": "code",
   "execution_count": 10,
   "metadata": {},
   "outputs": [
    {
     "name": "stdout",
     "output_type": "stream",
     "text": [
      "id:4136\n",
      "Age:66\n",
      "Female:2\n",
      "Educ:2\n",
      "Unmarried:2\n",
      "Income:2\n",
      "Insured:2\n",
      "Weight:928\n",
      "Height:489\n",
      "BMI:1870\n",
      "Obese:2\n",
      "Waist:708\n",
      "SBP:127\n",
      "DBP:94\n",
      "HDL:102\n",
      "LDL:249\n",
      "Total.Chol:249\n",
      "Dyslipidemia:2\n",
      "PVD:2\n",
      "Activity:4\n",
      "PoorVision:2\n",
      "Smoker:2\n",
      "Hypertension:2\n",
      "Fam.Hypertension:2\n",
      "Diabetes:2\n",
      "Fam.Diabetes:2\n",
      "Stroke:2\n",
      "CVD:2\n",
      "Fam.CVD:2\n",
      "CHF:2\n",
      "Anemia:2\n",
      "CKD:2\n",
      "Racegrpblack:2\n",
      "Racegrphispa:2\n",
      "Racegrpother:2\n",
      "Racegrpwhite:2\n",
      "CareSourceclinic:2\n",
      "CareSourceDrHMO:2\n",
      "CareSourcenoplace:2\n",
      "CareSourceother:2\n"
     ]
    }
   ],
   "source": [
    "#check each col's # of unique value to see which feature is not dummy variable\n",
    "col=df.columns\n",
    "for entry in col:\n",
    "        print(entry+':'+ str(len(df[entry].unique())))"
   ]
  },
  {
   "cell_type": "code",
   "execution_count": 7,
   "metadata": {},
   "outputs": [],
   "source": [
    "# drop id column \n",
    "df=df.drop(['id'],axis=1)"
   ]
  },
  {
   "cell_type": "code",
   "execution_count": 73,
   "metadata": {},
   "outputs": [
    {
     "data": {
      "image/png": "[encoded data removed]",
      "text/plain": [
       "<Figure size 432x288 with 1 Axes>"
      ]
     },
     "metadata": {
      "needs_background": "light"
     },
     "output_type": "display_data"
    }
   ],
   "source": [
    "# EDA\n",
    "df.CKD.plot(kind='hist')\n",
    "plt.xlabel('CKD')\n",
    "plt.ylabel('Number of cases')\n",
    "plt.show()"
   ]
  },
  {
   "cell_type": "code",
   "execution_count": 75,
   "metadata": {},
   "outputs": [
    {
     "data": {
      "text/plain": [
       "0.06873385012919897"
      ]
     },
     "execution_count": 75,
     "metadata": {},
     "output_type": "execute_result"
    }
   ],
   "source": [
    "# proportion of ckd cases\n",
    "(df.CKD==1).sum()/(df.CKD==0).sum()"
   ]
  },
  {
   "cell_type": "markdown",
   "metadata": {},
   "source": [
    "# feature engineer"
   ]
  },
  {
   "cell_type": "code",
   "execution_count": 64,
   "metadata": {},
   "outputs": [],
   "source": [
    "# encoding 'activity' into dummy\n",
    "df['new_Activity']=df['Activity'].apply(lambda val: 1 if val>2 else 0)"
   ]
  },
  {
   "cell_type": "code",
   "execution_count": 70,
   "metadata": {},
   "outputs": [
    {
     "data": {
      "text/plain": [
       "array([1, 0])"
      ]
     },
     "execution_count": 70,
     "metadata": {},
     "output_type": "execute_result"
    }
   ],
   "source": [
    "df.new_Activity.unique()"
   ]
  },
  {
   "cell_type": "code",
   "execution_count": 68,
   "metadata": {},
   "outputs": [],
   "source": [
    "# filter non_dummy features\n",
    "col_non_dummy=[]\n",
    "for entry in df.columns:\n",
    "    if len(df[entry].unique())>2:\n",
    "        col_non_dummy.append(entry)"
   ]
  },
  {
   "cell_type": "code",
   "execution_count": 69,
   "metadata": {},
   "outputs": [
    {
     "data": {
      "text/plain": [
       "['Age',\n",
       " 'Weight',\n",
       " 'Height',\n",
       " 'BMI',\n",
       " 'Waist',\n",
       " 'SBP',\n",
       " 'DBP',\n",
       " 'HDL',\n",
       " 'LDL',\n",
       " 'Total.Chol',\n",
       " 'Activity']"
      ]
     },
     "execution_count": 69,
     "metadata": {},
     "output_type": "execute_result"
    }
   ],
   "source": [
    "col_non_dummy"
   ]
  },
  {
   "cell_type": "code",
   "execution_count": 71,
   "metadata": {},
   "outputs": [],
   "source": [
    "# remove 'activity' from col_non_dummy list\n",
    "col_non_dummy.remove('Activity')"
   ]
  },
  {
   "cell_type": "code",
   "execution_count": 72,
   "metadata": {},
   "outputs": [
    {
     "data": {
      "text/plain": [
       "['Age',\n",
       " 'Weight',\n",
       " 'Height',\n",
       " 'BMI',\n",
       " 'Waist',\n",
       " 'SBP',\n",
       " 'DBP',\n",
       " 'HDL',\n",
       " 'LDL',\n",
       " 'Total.Chol']"
      ]
     },
     "execution_count": 72,
     "metadata": {},
     "output_type": "execute_result"
    }
   ],
   "source": [
    "col_non_dummy"
   ]
  },
  {
   "cell_type": "code",
   "execution_count": 76,
   "metadata": {},
   "outputs": [
    {
     "data": {
      "text/plain": [
       "Age            46.000\n",
       "Weight         77.400\n",
       "Height        167.450\n",
       "BMI            27.295\n",
       "Waist          96.500\n",
       "SBP           121.000\n",
       "DBP            72.000\n",
       "HDL            49.000\n",
       "LDL           149.000\n",
       "Total.Chol    200.000\n",
       "dtype: float64"
      ]
     },
     "execution_count": 76,
     "metadata": {},
     "output_type": "execute_result"
    }
   ],
   "source": [
    "# get median value of all the non_dummy features, 'activity is categorical variable'\n",
    "df[col_non_dummy].median()"
   ]
  },
  {
   "cell_type": "code",
   "execution_count": 80,
   "metadata": {},
   "outputs": [],
   "source": [
    "# create dummy\n",
    "for col in col_non_dummy:\n",
    "    df['new_'+col]=pd.qcut(df[col],q=2,labels=[0,1])"
   ]
  },
  {
   "cell_type": "code",
   "execution_count": 81,
   "metadata": {},
   "outputs": [
    {
     "data": {
      "text/html": [
       "<div>\n",
       "<style scoped>\n",
       "    .dataframe tbody tr th:only-of-type {\n",
       "        vertical-align: middle;\n",
       "    }\n",
       "\n",
       "    .dataframe tbody tr th {\n",
       "        vertical-align: top;\n",
       "    }\n",
       "\n",
       "    .dataframe thead th {\n",
       "        text-align: right;\n",
       "    }\n",
       "</style>\n",
       "<table border=\"1\" class=\"dataframe\">\n",
       "  <thead>\n",
       "    <tr style=\"text-align: right;\">\n",
       "      <th></th>\n",
       "      <th>Age</th>\n",
       "      <th>Female</th>\n",
       "      <th>Educ</th>\n",
       "      <th>Unmarried</th>\n",
       "      <th>Income</th>\n",
       "      <th>Insured</th>\n",
       "      <th>Weight</th>\n",
       "      <th>Height</th>\n",
       "      <th>BMI</th>\n",
       "      <th>Obese</th>\n",
       "      <th>...</th>\n",
       "      <th>new_Age</th>\n",
       "      <th>new_Weight</th>\n",
       "      <th>new_Height</th>\n",
       "      <th>new_BMI</th>\n",
       "      <th>new_Waist</th>\n",
       "      <th>new_SBP</th>\n",
       "      <th>new_DBP</th>\n",
       "      <th>new_HDL</th>\n",
       "      <th>new_LDL</th>\n",
       "      <th>new_Total.Chol</th>\n",
       "    </tr>\n",
       "  </thead>\n",
       "  <tbody>\n",
       "    <tr>\n",
       "      <th>0</th>\n",
       "      <td>65</td>\n",
       "      <td>1</td>\n",
       "      <td>0</td>\n",
       "      <td>0</td>\n",
       "      <td>1</td>\n",
       "      <td>1</td>\n",
       "      <td>56.0</td>\n",
       "      <td>162.1</td>\n",
       "      <td>21.31</td>\n",
       "      <td>0</td>\n",
       "      <td>...</td>\n",
       "      <td>1</td>\n",
       "      <td>0</td>\n",
       "      <td>0</td>\n",
       "      <td>0</td>\n",
       "      <td>0</td>\n",
       "      <td>1</td>\n",
       "      <td>0</td>\n",
       "      <td>0</td>\n",
       "      <td>1</td>\n",
       "      <td>1</td>\n",
       "    </tr>\n",
       "    <tr>\n",
       "      <th>1</th>\n",
       "      <td>66</td>\n",
       "      <td>1</td>\n",
       "      <td>0</td>\n",
       "      <td>1</td>\n",
       "      <td>0</td>\n",
       "      <td>1</td>\n",
       "      <td>83.9</td>\n",
       "      <td>162.5</td>\n",
       "      <td>31.77</td>\n",
       "      <td>1</td>\n",
       "      <td>...</td>\n",
       "      <td>1</td>\n",
       "      <td>1</td>\n",
       "      <td>0</td>\n",
       "      <td>1</td>\n",
       "      <td>1</td>\n",
       "      <td>0</td>\n",
       "      <td>0</td>\n",
       "      <td>0</td>\n",
       "      <td>1</td>\n",
       "      <td>1</td>\n",
       "    </tr>\n",
       "    <tr>\n",
       "      <th>2</th>\n",
       "      <td>54</td>\n",
       "      <td>1</td>\n",
       "      <td>1</td>\n",
       "      <td>0</td>\n",
       "      <td>0</td>\n",
       "      <td>1</td>\n",
       "      <td>69.4</td>\n",
       "      <td>160.5</td>\n",
       "      <td>26.94</td>\n",
       "      <td>0</td>\n",
       "      <td>...</td>\n",
       "      <td>1</td>\n",
       "      <td>0</td>\n",
       "      <td>0</td>\n",
       "      <td>0</td>\n",
       "      <td>0</td>\n",
       "      <td>0</td>\n",
       "      <td>0</td>\n",
       "      <td>1</td>\n",
       "      <td>1</td>\n",
       "      <td>1</td>\n",
       "    </tr>\n",
       "    <tr>\n",
       "      <th>3</th>\n",
       "      <td>26</td>\n",
       "      <td>0</td>\n",
       "      <td>1</td>\n",
       "      <td>0</td>\n",
       "      <td>0</td>\n",
       "      <td>1</td>\n",
       "      <td>119.3</td>\n",
       "      <td>193.2</td>\n",
       "      <td>31.96</td>\n",
       "      <td>1</td>\n",
       "      <td>...</td>\n",
       "      <td>0</td>\n",
       "      <td>1</td>\n",
       "      <td>1</td>\n",
       "      <td>1</td>\n",
       "      <td>1</td>\n",
       "      <td>1</td>\n",
       "      <td>0</td>\n",
       "      <td>0</td>\n",
       "      <td>1</td>\n",
       "      <td>1</td>\n",
       "    </tr>\n",
       "    <tr>\n",
       "      <th>4</th>\n",
       "      <td>66</td>\n",
       "      <td>0</td>\n",
       "      <td>1</td>\n",
       "      <td>0</td>\n",
       "      <td>0</td>\n",
       "      <td>0</td>\n",
       "      <td>85.1</td>\n",
       "      <td>172.1</td>\n",
       "      <td>28.73</td>\n",
       "      <td>0</td>\n",
       "      <td>...</td>\n",
       "      <td>1</td>\n",
       "      <td>1</td>\n",
       "      <td>1</td>\n",
       "      <td>1</td>\n",
       "      <td>1</td>\n",
       "      <td>1</td>\n",
       "      <td>1</td>\n",
       "      <td>0</td>\n",
       "      <td>0</td>\n",
       "      <td>0</td>\n",
       "    </tr>\n",
       "  </tbody>\n",
       "</table>\n",
       "<p>5 rows × 50 columns</p>\n",
       "</div>"
      ],
      "text/plain": [
       "   Age  Female  Educ  Unmarried  Income  Insured  Weight  Height    BMI  \\\n",
       "0   65       1     0          0       1        1    56.0   162.1  21.31   \n",
       "1   66       1     0          1       0        1    83.9   162.5  31.77   \n",
       "2   54       1     1          0       0        1    69.4   160.5  26.94   \n",
       "3   26       0     1          0       0        1   119.3   193.2  31.96   \n",
       "4   66       0     1          0       0        0    85.1   172.1  28.73   \n",
       "\n",
       "   Obese  ...  new_Age  new_Weight  new_Height  new_BMI  new_Waist  new_SBP  \\\n",
       "0      0  ...        1           0           0        0          0        1   \n",
       "1      1  ...        1           1           0        1          1        0   \n",
       "2      0  ...        1           0           0        0          0        0   \n",
       "3      1  ...        0           1           1        1          1        1   \n",
       "4      0  ...        1           1           1        1          1        1   \n",
       "\n",
       "   new_DBP  new_HDL  new_LDL  new_Total.Chol  \n",
       "0        0        0        1               1  \n",
       "1        0        0        1               1  \n",
       "2        0        1        1               1  \n",
       "3        0        0        1               1  \n",
       "4        1        0        0               0  \n",
       "\n",
       "[5 rows x 50 columns]"
      ]
     },
     "execution_count": 81,
     "metadata": {},
     "output_type": "execute_result"
    }
   ],
   "source": [
    "df.head()"
   ]
  },
  {
   "cell_type": "code",
   "execution_count": 82,
   "metadata": {},
   "outputs": [
    {
     "data": {
      "text/plain": [
       "(4136, 50)"
      ]
     },
     "execution_count": 82,
     "metadata": {},
     "output_type": "execute_result"
    }
   ],
   "source": [
    "df.shape"
   ]
  },
  {
   "cell_type": "code",
   "execution_count": 83,
   "metadata": {},
   "outputs": [
    {
     "data": {
      "text/plain": [
       "Age                     int64\n",
       "Female                  int64\n",
       "Educ                    int64\n",
       "Unmarried               int64\n",
       "Income                  int64\n",
       "Insured                 int64\n",
       "Weight                float64\n",
       "Height                float64\n",
       "BMI                   float64\n",
       "Obese                   int64\n",
       "Waist                 float64\n",
       "SBP                     int64\n",
       "DBP                     int64\n",
       "HDL                     int64\n",
       "LDL                     int64\n",
       "Total.Chol              int64\n",
       "Dyslipidemia            int64\n",
       "PVD                     int64\n",
       "Activity                int64\n",
       "PoorVision              int64\n",
       "Smoker                  int64\n",
       "Hypertension            int64\n",
       "Fam.Hypertension        int64\n",
       "Diabetes                int64\n",
       "Fam.Diabetes            int64\n",
       "Stroke                  int64\n",
       "CVD                     int64\n",
       "Fam.CVD                 int64\n",
       "CHF                     int64\n",
       "Anemia                  int64\n",
       "CKD                     int64\n",
       "Racegrpblack            int64\n",
       "Racegrphispa            int64\n",
       "Racegrpother            int64\n",
       "Racegrpwhite            int64\n",
       "CareSourceclinic        int64\n",
       "CareSourceDrHMO         int64\n",
       "CareSourcenoplace       int64\n",
       "CareSourceother         int64\n",
       "new_Activity            int64\n",
       "new_Age              category\n",
       "new_Weight           category\n",
       "new_Height           category\n",
       "new_BMI              category\n",
       "new_Waist            category\n",
       "new_SBP              category\n",
       "new_DBP              category\n",
       "new_HDL              category\n",
       "new_LDL              category\n",
       "new_Total.Chol       category\n",
       "dtype: object"
      ]
     },
     "execution_count": 83,
     "metadata": {},
     "output_type": "execute_result"
    }
   ],
   "source": [
    "# look at data type, these new dummy features are categorical variable, we need to transform them into float or int\n",
    "df.dtypes"
   ]
  },
  {
   "cell_type": "code",
   "execution_count": 88,
   "metadata": {},
   "outputs": [
    {
     "data": {
      "text/html": [
       "<div>\n",
       "<style scoped>\n",
       "    .dataframe tbody tr th:only-of-type {\n",
       "        vertical-align: middle;\n",
       "    }\n",
       "\n",
       "    .dataframe tbody tr th {\n",
       "        vertical-align: top;\n",
       "    }\n",
       "\n",
       "    .dataframe thead th {\n",
       "        text-align: right;\n",
       "    }\n",
       "</style>\n",
       "<table border=\"1\" class=\"dataframe\">\n",
       "  <thead>\n",
       "    <tr style=\"text-align: right;\">\n",
       "      <th></th>\n",
       "      <th>Female</th>\n",
       "      <th>Educ</th>\n",
       "      <th>Unmarried</th>\n",
       "      <th>Income</th>\n",
       "      <th>Insured</th>\n",
       "      <th>Obese</th>\n",
       "      <th>Dyslipidemia</th>\n",
       "      <th>PVD</th>\n",
       "      <th>PoorVision</th>\n",
       "      <th>Smoker</th>\n",
       "      <th>...</th>\n",
       "      <th>new_Age</th>\n",
       "      <th>new_Weight</th>\n",
       "      <th>new_Height</th>\n",
       "      <th>new_BMI</th>\n",
       "      <th>new_Waist</th>\n",
       "      <th>new_SBP</th>\n",
       "      <th>new_DBP</th>\n",
       "      <th>new_HDL</th>\n",
       "      <th>new_LDL</th>\n",
       "      <th>new_Total.Chol</th>\n",
       "    </tr>\n",
       "  </thead>\n",
       "  <tbody>\n",
       "    <tr>\n",
       "      <th>0</th>\n",
       "      <td>1</td>\n",
       "      <td>0</td>\n",
       "      <td>0</td>\n",
       "      <td>1</td>\n",
       "      <td>1</td>\n",
       "      <td>0</td>\n",
       "      <td>0</td>\n",
       "      <td>0</td>\n",
       "      <td>0</td>\n",
       "      <td>1</td>\n",
       "      <td>...</td>\n",
       "      <td>1</td>\n",
       "      <td>0</td>\n",
       "      <td>0</td>\n",
       "      <td>0</td>\n",
       "      <td>0</td>\n",
       "      <td>1</td>\n",
       "      <td>0</td>\n",
       "      <td>0</td>\n",
       "      <td>1</td>\n",
       "      <td>1</td>\n",
       "    </tr>\n",
       "    <tr>\n",
       "      <th>1</th>\n",
       "      <td>1</td>\n",
       "      <td>0</td>\n",
       "      <td>1</td>\n",
       "      <td>0</td>\n",
       "      <td>1</td>\n",
       "      <td>1</td>\n",
       "      <td>1</td>\n",
       "      <td>0</td>\n",
       "      <td>0</td>\n",
       "      <td>1</td>\n",
       "      <td>...</td>\n",
       "      <td>1</td>\n",
       "      <td>1</td>\n",
       "      <td>0</td>\n",
       "      <td>1</td>\n",
       "      <td>1</td>\n",
       "      <td>0</td>\n",
       "      <td>0</td>\n",
       "      <td>0</td>\n",
       "      <td>1</td>\n",
       "      <td>1</td>\n",
       "    </tr>\n",
       "    <tr>\n",
       "      <th>2</th>\n",
       "      <td>1</td>\n",
       "      <td>1</td>\n",
       "      <td>0</td>\n",
       "      <td>0</td>\n",
       "      <td>1</td>\n",
       "      <td>0</td>\n",
       "      <td>0</td>\n",
       "      <td>0</td>\n",
       "      <td>0</td>\n",
       "      <td>1</td>\n",
       "      <td>...</td>\n",
       "      <td>1</td>\n",
       "      <td>0</td>\n",
       "      <td>0</td>\n",
       "      <td>0</td>\n",
       "      <td>0</td>\n",
       "      <td>0</td>\n",
       "      <td>0</td>\n",
       "      <td>1</td>\n",
       "      <td>1</td>\n",
       "      <td>1</td>\n",
       "    </tr>\n",
       "    <tr>\n",
       "      <th>3</th>\n",
       "      <td>0</td>\n",
       "      <td>1</td>\n",
       "      <td>0</td>\n",
       "      <td>0</td>\n",
       "      <td>1</td>\n",
       "      <td>1</td>\n",
       "      <td>0</td>\n",
       "      <td>0</td>\n",
       "      <td>0</td>\n",
       "      <td>0</td>\n",
       "      <td>...</td>\n",
       "      <td>0</td>\n",
       "      <td>1</td>\n",
       "      <td>1</td>\n",
       "      <td>1</td>\n",
       "      <td>1</td>\n",
       "      <td>1</td>\n",
       "      <td>0</td>\n",
       "      <td>0</td>\n",
       "      <td>1</td>\n",
       "      <td>1</td>\n",
       "    </tr>\n",
       "    <tr>\n",
       "      <th>4</th>\n",
       "      <td>0</td>\n",
       "      <td>1</td>\n",
       "      <td>0</td>\n",
       "      <td>0</td>\n",
       "      <td>0</td>\n",
       "      <td>0</td>\n",
       "      <td>0</td>\n",
       "      <td>0</td>\n",
       "      <td>0</td>\n",
       "      <td>0</td>\n",
       "      <td>...</td>\n",
       "      <td>1</td>\n",
       "      <td>1</td>\n",
       "      <td>1</td>\n",
       "      <td>1</td>\n",
       "      <td>1</td>\n",
       "      <td>1</td>\n",
       "      <td>1</td>\n",
       "      <td>0</td>\n",
       "      <td>0</td>\n",
       "      <td>0</td>\n",
       "    </tr>\n",
       "  </tbody>\n",
       "</table>\n",
       "<p>5 rows × 39 columns</p>\n",
       "</div>"
      ],
      "text/plain": [
       "   Female  Educ  Unmarried  Income  Insured  Obese  Dyslipidemia  PVD  \\\n",
       "0       1     0          0       1        1      0             0    0   \n",
       "1       1     0          1       0        1      1             1    0   \n",
       "2       1     1          0       0        1      0             0    0   \n",
       "3       0     1          0       0        1      1             0    0   \n",
       "4       0     1          0       0        0      0             0    0   \n",
       "\n",
       "   PoorVision  Smoker  ...  new_Age  new_Weight  new_Height  new_BMI  \\\n",
       "0           0       1  ...        1           0           0        0   \n",
       "1           0       1  ...        1           1           0        1   \n",
       "2           0       1  ...        1           0           0        0   \n",
       "3           0       0  ...        0           1           1        1   \n",
       "4           0       0  ...        1           1           1        1   \n",
       "\n",
       "   new_Waist  new_SBP  new_DBP  new_HDL  new_LDL  new_Total.Chol  \n",
       "0          0        1        0        0        1               1  \n",
       "1          1        0        0        0        1               1  \n",
       "2          0        0        0        1        1               1  \n",
       "3          1        1        0        0        1               1  \n",
       "4          1        1        1        0        0               0  \n",
       "\n",
       "[5 rows x 39 columns]"
      ]
     },
     "execution_count": 88,
     "metadata": {},
     "output_type": "execute_result"
    }
   ],
   "source": [
    "# drop original col to create a new dummy dataframe\n",
    "df_dummy=df.drop(col_non_dummy+['Activity'],axis=1)\n",
    "df_dummy.head()"
   ]
  },
  {
   "cell_type": "code",
   "execution_count": 91,
   "metadata": {},
   "outputs": [
    {
     "name": "stdout",
     "output_type": "stream",
     "text": [
      "Female:2\n",
      "Educ:2\n",
      "Unmarried:2\n",
      "Income:2\n",
      "Insured:2\n",
      "Obese:2\n",
      "Dyslipidemia:2\n",
      "PVD:2\n",
      "PoorVision:2\n",
      "Smoker:2\n",
      "Hypertension:2\n",
      "Fam.Hypertension:2\n",
      "Diabetes:2\n",
      "Fam.Diabetes:2\n",
      "Stroke:2\n",
      "CVD:2\n",
      "Fam.CVD:2\n",
      "CHF:2\n",
      "Anemia:2\n",
      "CKD:2\n",
      "Racegrpblack:2\n",
      "Racegrphispa:2\n",
      "Racegrpother:2\n",
      "Racegrpwhite:2\n",
      "CareSourceclinic:2\n",
      "CareSourceDrHMO:2\n",
      "CareSourcenoplace:2\n",
      "CareSourceother:2\n",
      "new_Activity:2\n",
      "new_Age:2\n",
      "new_Weight:2\n",
      "new_Height:2\n",
      "new_BMI:2\n",
      "new_Waist:2\n",
      "new_SBP:2\n",
      "new_DBP:2\n",
      "new_HDL:2\n",
      "new_LDL:2\n",
      "new_Total.Chol:2\n"
     ]
    }
   ],
   "source": [
    "# confirm every features are dummy variable\n",
    "for entry in df_dummy.columns:\n",
    "        print(entry+':'+ str(len(df[entry].unique())))"
   ]
  },
  {
   "cell_type": "code",
   "execution_count": 109,
   "metadata": {},
   "outputs": [
    {
     "data": {
      "text/plain": [
       "Female               int64\n",
       "Educ                 int64\n",
       "Unmarried            int64\n",
       "Income               int64\n",
       "Insured              int64\n",
       "Obese                int64\n",
       "Dyslipidemia         int64\n",
       "PVD                  int64\n",
       "PoorVision           int64\n",
       "Smoker               int64\n",
       "Hypertension         int64\n",
       "Fam.Hypertension     int64\n",
       "Diabetes             int64\n",
       "Fam.Diabetes         int64\n",
       "Stroke               int64\n",
       "CVD                  int64\n",
       "Fam.CVD              int64\n",
       "CHF                  int64\n",
       "Anemia               int64\n",
       "CKD                  int64\n",
       "Racegrpblack         int64\n",
       "Racegrphispa         int64\n",
       "Racegrpother         int64\n",
       "Racegrpwhite         int64\n",
       "CareSourceclinic     int64\n",
       "CareSourceDrHMO      int64\n",
       "CareSourcenoplace    int64\n",
       "CareSourceother      int64\n",
       "new_Activity         int64\n",
       "new_Age              int64\n",
       "new_Weight           int64\n",
       "new_Height           int64\n",
       "new_BMI              int64\n",
       "new_Waist            int64\n",
       "new_SBP              int64\n",
       "new_DBP              int64\n",
       "new_HDL              int64\n",
       "new_LDL              int64\n",
       "new_Total.Chol       int64\n",
       "dtype: object"
      ]
     },
     "execution_count": 109,
     "metadata": {},
     "output_type": "execute_result"
    }
   ],
   "source": [
    "df_dummy=df_dummy.astype('int')\n",
    "df_dummy.dtypes"
   ]
  },
  {
   "cell_type": "markdown",
   "metadata": {},
   "source": [
    "# feature filter"
   ]
  },
  {
   "cell_type": "code",
   "execution_count": 112,
   "metadata": {},
   "outputs": [],
   "source": [
    "# filter CKD==1 and drop CKD Col\n",
    "ckd=df_dummy[df_dummy.CKD==1].drop(['CKD'],axis=1)"
   ]
  },
  {
   "cell_type": "code",
   "execution_count": 121,
   "metadata": {},
   "outputs": [],
   "source": [
    "prob_ckd=[]\n",
    "for col in ckd.columns:\n",
    "    prob_ckd.append(ckd[col].mean())\n",
    "    df_prob_ckd=pd.DataFrame(zip(ckd.columns,prob_ckd))"
   ]
  },
  {
   "cell_type": "code",
   "execution_count": 140,
   "metadata": {},
   "outputs": [],
   "source": [
    "df_prob_ckd.columns=['features','likelihood_ckd']"
   ]
  },
  {
   "cell_type": "code",
   "execution_count": 141,
   "metadata": {},
   "outputs": [
    {
     "data": {
      "text/html": [
       "<div>\n",
       "<style scoped>\n",
       "    .dataframe tbody tr th:only-of-type {\n",
       "        vertical-align: middle;\n",
       "    }\n",
       "\n",
       "    .dataframe tbody tr th {\n",
       "        vertical-align: top;\n",
       "    }\n",
       "\n",
       "    .dataframe thead th {\n",
       "        text-align: right;\n",
       "    }\n",
       "</style>\n",
       "<table border=\"1\" class=\"dataframe\">\n",
       "  <thead>\n",
       "    <tr style=\"text-align: right;\">\n",
       "      <th></th>\n",
       "      <th>features</th>\n",
       "      <th>likelihood_ckd</th>\n",
       "    </tr>\n",
       "  </thead>\n",
       "  <tbody>\n",
       "    <tr>\n",
       "      <th>0</th>\n",
       "      <td>Female</td>\n",
       "      <td>0.537594</td>\n",
       "    </tr>\n",
       "    <tr>\n",
       "      <th>1</th>\n",
       "      <td>Educ</td>\n",
       "      <td>0.349624</td>\n",
       "    </tr>\n",
       "    <tr>\n",
       "      <th>2</th>\n",
       "      <td>Unmarried</td>\n",
       "      <td>0.439850</td>\n",
       "    </tr>\n",
       "    <tr>\n",
       "      <th>3</th>\n",
       "      <td>Income</td>\n",
       "      <td>0.281955</td>\n",
       "    </tr>\n",
       "    <tr>\n",
       "      <th>4</th>\n",
       "      <td>Insured</td>\n",
       "      <td>0.966165</td>\n",
       "    </tr>\n",
       "    <tr>\n",
       "      <th>5</th>\n",
       "      <td>Obese</td>\n",
       "      <td>0.349624</td>\n",
       "    </tr>\n",
       "    <tr>\n",
       "      <th>6</th>\n",
       "      <td>Dyslipidemia</td>\n",
       "      <td>0.105263</td>\n",
       "    </tr>\n",
       "    <tr>\n",
       "      <th>7</th>\n",
       "      <td>PVD</td>\n",
       "      <td>0.142857</td>\n",
       "    </tr>\n",
       "    <tr>\n",
       "      <th>8</th>\n",
       "      <td>PoorVision</td>\n",
       "      <td>0.139098</td>\n",
       "    </tr>\n",
       "    <tr>\n",
       "      <th>9</th>\n",
       "      <td>Smoker</td>\n",
       "      <td>0.398496</td>\n",
       "    </tr>\n",
       "    <tr>\n",
       "      <th>10</th>\n",
       "      <td>Hypertension</td>\n",
       "      <td>0.793233</td>\n",
       "    </tr>\n",
       "    <tr>\n",
       "      <th>11</th>\n",
       "      <td>Fam.Hypertension</td>\n",
       "      <td>0.184211</td>\n",
       "    </tr>\n",
       "    <tr>\n",
       "      <th>12</th>\n",
       "      <td>Diabetes</td>\n",
       "      <td>0.285714</td>\n",
       "    </tr>\n",
       "    <tr>\n",
       "      <th>13</th>\n",
       "      <td>Fam.Diabetes</td>\n",
       "      <td>0.345865</td>\n",
       "    </tr>\n",
       "    <tr>\n",
       "      <th>14</th>\n",
       "      <td>Stroke</td>\n",
       "      <td>0.112782</td>\n",
       "    </tr>\n",
       "    <tr>\n",
       "      <th>15</th>\n",
       "      <td>CVD</td>\n",
       "      <td>0.229323</td>\n",
       "    </tr>\n",
       "    <tr>\n",
       "      <th>16</th>\n",
       "      <td>Fam.CVD</td>\n",
       "      <td>0.263158</td>\n",
       "    </tr>\n",
       "    <tr>\n",
       "      <th>17</th>\n",
       "      <td>CHF</td>\n",
       "      <td>0.086466</td>\n",
       "    </tr>\n",
       "    <tr>\n",
       "      <th>18</th>\n",
       "      <td>Anemia</td>\n",
       "      <td>0.030075</td>\n",
       "    </tr>\n",
       "    <tr>\n",
       "      <th>19</th>\n",
       "      <td>Racegrpblack</td>\n",
       "      <td>0.165414</td>\n",
       "    </tr>\n",
       "    <tr>\n",
       "      <th>20</th>\n",
       "      <td>Racegrphispa</td>\n",
       "      <td>0.112782</td>\n",
       "    </tr>\n",
       "    <tr>\n",
       "      <th>21</th>\n",
       "      <td>Racegrpother</td>\n",
       "      <td>0.015038</td>\n",
       "    </tr>\n",
       "    <tr>\n",
       "      <th>22</th>\n",
       "      <td>Racegrpwhite</td>\n",
       "      <td>0.706767</td>\n",
       "    </tr>\n",
       "    <tr>\n",
       "      <th>23</th>\n",
       "      <td>CareSourceclinic</td>\n",
       "      <td>0.203008</td>\n",
       "    </tr>\n",
       "    <tr>\n",
       "      <th>24</th>\n",
       "      <td>CareSourceDrHMO</td>\n",
       "      <td>0.710526</td>\n",
       "    </tr>\n",
       "    <tr>\n",
       "      <th>25</th>\n",
       "      <td>CareSourcenoplace</td>\n",
       "      <td>0.033835</td>\n",
       "    </tr>\n",
       "    <tr>\n",
       "      <th>26</th>\n",
       "      <td>CareSourceother</td>\n",
       "      <td>0.052632</td>\n",
       "    </tr>\n",
       "    <tr>\n",
       "      <th>27</th>\n",
       "      <td>new_Activity</td>\n",
       "      <td>0.086466</td>\n",
       "    </tr>\n",
       "    <tr>\n",
       "      <th>28</th>\n",
       "      <td>new_Age</td>\n",
       "      <td>0.951128</td>\n",
       "    </tr>\n",
       "    <tr>\n",
       "      <th>29</th>\n",
       "      <td>new_Weight</td>\n",
       "      <td>0.522556</td>\n",
       "    </tr>\n",
       "    <tr>\n",
       "      <th>30</th>\n",
       "      <td>new_Height</td>\n",
       "      <td>0.458647</td>\n",
       "    </tr>\n",
       "    <tr>\n",
       "      <th>31</th>\n",
       "      <td>new_BMI</td>\n",
       "      <td>0.545113</td>\n",
       "    </tr>\n",
       "    <tr>\n",
       "      <th>32</th>\n",
       "      <td>new_Waist</td>\n",
       "      <td>0.654135</td>\n",
       "    </tr>\n",
       "    <tr>\n",
       "      <th>33</th>\n",
       "      <td>new_SBP</td>\n",
       "      <td>0.770677</td>\n",
       "    </tr>\n",
       "    <tr>\n",
       "      <th>34</th>\n",
       "      <td>new_DBP</td>\n",
       "      <td>0.409774</td>\n",
       "    </tr>\n",
       "    <tr>\n",
       "      <th>35</th>\n",
       "      <td>new_HDL</td>\n",
       "      <td>0.390977</td>\n",
       "    </tr>\n",
       "    <tr>\n",
       "      <th>36</th>\n",
       "      <td>new_LDL</td>\n",
       "      <td>0.545113</td>\n",
       "    </tr>\n",
       "    <tr>\n",
       "      <th>37</th>\n",
       "      <td>new_Total.Chol</td>\n",
       "      <td>0.518797</td>\n",
       "    </tr>\n",
       "  </tbody>\n",
       "</table>\n",
       "</div>"
      ],
      "text/plain": [
       "             features  likelihood_ckd\n",
       "0              Female        0.537594\n",
       "1                Educ        0.349624\n",
       "2           Unmarried        0.439850\n",
       "3              Income        0.281955\n",
       "4             Insured        0.966165\n",
       "5               Obese        0.349624\n",
       "6        Dyslipidemia        0.105263\n",
       "7                 PVD        0.142857\n",
       "8          PoorVision        0.139098\n",
       "9              Smoker        0.398496\n",
       "10       Hypertension        0.793233\n",
       "11   Fam.Hypertension        0.184211\n",
       "12           Diabetes        0.285714\n",
       "13       Fam.Diabetes        0.345865\n",
       "14             Stroke        0.112782\n",
       "15                CVD        0.229323\n",
       "16            Fam.CVD        0.263158\n",
       "17                CHF        0.086466\n",
       "18             Anemia        0.030075\n",
       "19       Racegrpblack        0.165414\n",
       "20       Racegrphispa        0.112782\n",
       "21       Racegrpother        0.015038\n",
       "22       Racegrpwhite        0.706767\n",
       "23   CareSourceclinic        0.203008\n",
       "24    CareSourceDrHMO        0.710526\n",
       "25  CareSourcenoplace        0.033835\n",
       "26    CareSourceother        0.052632\n",
       "27       new_Activity        0.086466\n",
       "28            new_Age        0.951128\n",
       "29         new_Weight        0.522556\n",
       "30         new_Height        0.458647\n",
       "31            new_BMI        0.545113\n",
       "32          new_Waist        0.654135\n",
       "33            new_SBP        0.770677\n",
       "34            new_DBP        0.409774\n",
       "35            new_HDL        0.390977\n",
       "36            new_LDL        0.545113\n",
       "37     new_Total.Chol        0.518797"
      ]
     },
     "execution_count": 141,
     "metadata": {},
     "output_type": "execute_result"
    }
   ],
   "source": [
    "df_prob_ckd"
   ]
  },
  {
   "cell_type": "code",
   "execution_count": 124,
   "metadata": {},
   "outputs": [],
   "source": [
    "pro_feature=[]\n",
    "for col in df_dummy.columns:\n",
    "    prob=df_dummy[df_dummy[col]==1].CKD.mean()\n",
    "    pro_feature.append(prob)\n",
    "    df_pro_feature=pd.DataFrame(zip(df_dummy.columns,pro_feature))\n",
    "        "
   ]
  },
  {
   "cell_type": "code",
   "execution_count": 142,
   "metadata": {},
   "outputs": [],
   "source": [
    "df_pro_feature.columns=['features','likelihood_feature']"
   ]
  },
  {
   "cell_type": "code",
   "execution_count": 143,
   "metadata": {},
   "outputs": [
    {
     "data": {
      "text/html": [
       "<div>\n",
       "<style scoped>\n",
       "    .dataframe tbody tr th:only-of-type {\n",
       "        vertical-align: middle;\n",
       "    }\n",
       "\n",
       "    .dataframe tbody tr th {\n",
       "        vertical-align: top;\n",
       "    }\n",
       "\n",
       "    .dataframe thead th {\n",
       "        text-align: right;\n",
       "    }\n",
       "</style>\n",
       "<table border=\"1\" class=\"dataframe\">\n",
       "  <thead>\n",
       "    <tr style=\"text-align: right;\">\n",
       "      <th></th>\n",
       "      <th>features</th>\n",
       "      <th>likelihood_feature</th>\n",
       "    </tr>\n",
       "  </thead>\n",
       "  <tbody>\n",
       "    <tr>\n",
       "      <th>0</th>\n",
       "      <td>Female</td>\n",
       "      <td>0.066948</td>\n",
       "    </tr>\n",
       "    <tr>\n",
       "      <th>1</th>\n",
       "      <td>Educ</td>\n",
       "      <td>0.047595</td>\n",
       "    </tr>\n",
       "    <tr>\n",
       "      <th>2</th>\n",
       "      <td>Unmarried</td>\n",
       "      <td>0.081306</td>\n",
       "    </tr>\n",
       "    <tr>\n",
       "      <th>3</th>\n",
       "      <td>Income</td>\n",
       "      <td>0.040628</td>\n",
       "    </tr>\n",
       "    <tr>\n",
       "      <th>4</th>\n",
       "      <td>Insured</td>\n",
       "      <td>0.076694</td>\n",
       "    </tr>\n",
       "    <tr>\n",
       "      <th>5</th>\n",
       "      <td>Obese</td>\n",
       "      <td>0.072543</td>\n",
       "    </tr>\n",
       "    <tr>\n",
       "      <th>6</th>\n",
       "      <td>Dyslipidemia</td>\n",
       "      <td>0.065268</td>\n",
       "    </tr>\n",
       "    <tr>\n",
       "      <th>7</th>\n",
       "      <td>PVD</td>\n",
       "      <td>0.269504</td>\n",
       "    </tr>\n",
       "    <tr>\n",
       "      <th>8</th>\n",
       "      <td>PoorVision</td>\n",
       "      <td>0.166667</td>\n",
       "    </tr>\n",
       "    <tr>\n",
       "      <th>9</th>\n",
       "      <td>Smoker</td>\n",
       "      <td>0.083927</td>\n",
       "    </tr>\n",
       "    <tr>\n",
       "      <th>10</th>\n",
       "      <td>Hypertension</td>\n",
       "      <td>0.134824</td>\n",
       "    </tr>\n",
       "    <tr>\n",
       "      <th>11</th>\n",
       "      <td>Fam.Hypertension</td>\n",
       "      <td>0.046800</td>\n",
       "    </tr>\n",
       "    <tr>\n",
       "      <th>12</th>\n",
       "      <td>Diabetes</td>\n",
       "      <td>0.176334</td>\n",
       "    </tr>\n",
       "    <tr>\n",
       "      <th>13</th>\n",
       "      <td>Fam.Diabetes</td>\n",
       "      <td>0.070988</td>\n",
       "    </tr>\n",
       "    <tr>\n",
       "      <th>14</th>\n",
       "      <td>Stroke</td>\n",
       "      <td>0.297030</td>\n",
       "    </tr>\n",
       "    <tr>\n",
       "      <th>15</th>\n",
       "      <td>CVD</td>\n",
       "      <td>0.262931</td>\n",
       "    </tr>\n",
       "    <tr>\n",
       "      <th>16</th>\n",
       "      <td>Fam.CVD</td>\n",
       "      <td>0.047554</td>\n",
       "    </tr>\n",
       "    <tr>\n",
       "      <th>17</th>\n",
       "      <td>CHF</td>\n",
       "      <td>0.250000</td>\n",
       "    </tr>\n",
       "    <tr>\n",
       "      <th>18</th>\n",
       "      <td>Anemia</td>\n",
       "      <td>0.102564</td>\n",
       "    </tr>\n",
       "    <tr>\n",
       "      <th>19</th>\n",
       "      <td>CKD</td>\n",
       "      <td>1.000000</td>\n",
       "    </tr>\n",
       "    <tr>\n",
       "      <th>20</th>\n",
       "      <td>Racegrpblack</td>\n",
       "      <td>0.064611</td>\n",
       "    </tr>\n",
       "    <tr>\n",
       "      <th>21</th>\n",
       "      <td>Racegrphispa</td>\n",
       "      <td>0.026549</td>\n",
       "    </tr>\n",
       "    <tr>\n",
       "      <th>22</th>\n",
       "      <td>Racegrpother</td>\n",
       "      <td>0.032258</td>\n",
       "    </tr>\n",
       "    <tr>\n",
       "      <th>23</th>\n",
       "      <td>Racegrpwhite</td>\n",
       "      <td>0.085416</td>\n",
       "    </tr>\n",
       "    <tr>\n",
       "      <th>24</th>\n",
       "      <td>CareSourceclinic</td>\n",
       "      <td>0.062572</td>\n",
       "    </tr>\n",
       "    <tr>\n",
       "      <th>25</th>\n",
       "      <td>CareSourceDrHMO</td>\n",
       "      <td>0.076923</td>\n",
       "    </tr>\n",
       "    <tr>\n",
       "      <th>26</th>\n",
       "      <td>CareSourcenoplace</td>\n",
       "      <td>0.014469</td>\n",
       "    </tr>\n",
       "    <tr>\n",
       "      <th>27</th>\n",
       "      <td>CareSourceother</td>\n",
       "      <td>0.072539</td>\n",
       "    </tr>\n",
       "    <tr>\n",
       "      <th>28</th>\n",
       "      <td>new_Activity</td>\n",
       "      <td>0.025556</td>\n",
       "    </tr>\n",
       "    <tr>\n",
       "      <th>29</th>\n",
       "      <td>new_Age</td>\n",
       "      <td>0.126754</td>\n",
       "    </tr>\n",
       "    <tr>\n",
       "      <th>30</th>\n",
       "      <td>new_Weight</td>\n",
       "      <td>0.067247</td>\n",
       "    </tr>\n",
       "    <tr>\n",
       "      <th>31</th>\n",
       "      <td>new_Height</td>\n",
       "      <td>0.058994</td>\n",
       "    </tr>\n",
       "    <tr>\n",
       "      <th>32</th>\n",
       "      <td>new_BMI</td>\n",
       "      <td>0.070116</td>\n",
       "    </tr>\n",
       "    <tr>\n",
       "      <th>33</th>\n",
       "      <td>new_Waist</td>\n",
       "      <td>0.084466</td>\n",
       "    </tr>\n",
       "    <tr>\n",
       "      <th>34</th>\n",
       "      <td>new_SBP</td>\n",
       "      <td>0.101435</td>\n",
       "    </tr>\n",
       "    <tr>\n",
       "      <th>35</th>\n",
       "      <td>new_DBP</td>\n",
       "      <td>0.054582</td>\n",
       "    </tr>\n",
       "    <tr>\n",
       "      <th>36</th>\n",
       "      <td>new_HDL</td>\n",
       "      <td>0.051948</td>\n",
       "    </tr>\n",
       "    <tr>\n",
       "      <th>37</th>\n",
       "      <td>new_LDL</td>\n",
       "      <td>0.070870</td>\n",
       "    </tr>\n",
       "    <tr>\n",
       "      <th>38</th>\n",
       "      <td>new_Total.Chol</td>\n",
       "      <td>0.067383</td>\n",
       "    </tr>\n",
       "  </tbody>\n",
       "</table>\n",
       "</div>"
      ],
      "text/plain": [
       "             features  likelihood_feature\n",
       "0              Female            0.066948\n",
       "1                Educ            0.047595\n",
       "2           Unmarried            0.081306\n",
       "3              Income            0.040628\n",
       "4             Insured            0.076694\n",
       "5               Obese            0.072543\n",
       "6        Dyslipidemia            0.065268\n",
       "7                 PVD            0.269504\n",
       "8          PoorVision            0.166667\n",
       "9              Smoker            0.083927\n",
       "10       Hypertension            0.134824\n",
       "11   Fam.Hypertension            0.046800\n",
       "12           Diabetes            0.176334\n",
       "13       Fam.Diabetes            0.070988\n",
       "14             Stroke            0.297030\n",
       "15                CVD            0.262931\n",
       "16            Fam.CVD            0.047554\n",
       "17                CHF            0.250000\n",
       "18             Anemia            0.102564\n",
       "19                CKD            1.000000\n",
       "20       Racegrpblack            0.064611\n",
       "21       Racegrphispa            0.026549\n",
       "22       Racegrpother            0.032258\n",
       "23       Racegrpwhite            0.085416\n",
       "24   CareSourceclinic            0.062572\n",
       "25    CareSourceDrHMO            0.076923\n",
       "26  CareSourcenoplace            0.014469\n",
       "27    CareSourceother            0.072539\n",
       "28       new_Activity            0.025556\n",
       "29            new_Age            0.126754\n",
       "30         new_Weight            0.067247\n",
       "31         new_Height            0.058994\n",
       "32            new_BMI            0.070116\n",
       "33          new_Waist            0.084466\n",
       "34            new_SBP            0.101435\n",
       "35            new_DBP            0.054582\n",
       "36            new_HDL            0.051948\n",
       "37            new_LDL            0.070870\n",
       "38     new_Total.Chol            0.067383"
      ]
     },
     "execution_count": 143,
     "metadata": {},
     "output_type": "execute_result"
    }
   ],
   "source": [
    "df_pro_feature"
   ]
  },
  {
   "cell_type": "code",
   "execution_count": 146,
   "metadata": {},
   "outputs": [],
   "source": [
    "df_prob=pd.merge(left=df_prob_ckd,right=df_pro_feature,on='features')"
   ]
  },
  {
   "cell_type": "code",
   "execution_count": 147,
   "metadata": {},
   "outputs": [
    {
     "data": {
      "text/html": [
       "<div>\n",
       "<style scoped>\n",
       "    .dataframe tbody tr th:only-of-type {\n",
       "        vertical-align: middle;\n",
       "    }\n",
       "\n",
       "    .dataframe tbody tr th {\n",
       "        vertical-align: top;\n",
       "    }\n",
       "\n",
       "    .dataframe thead th {\n",
       "        text-align: right;\n",
       "    }\n",
       "</style>\n",
       "<table border=\"1\" class=\"dataframe\">\n",
       "  <thead>\n",
       "    <tr style=\"text-align: right;\">\n",
       "      <th></th>\n",
       "      <th>features</th>\n",
       "      <th>likelihood_ckd</th>\n",
       "      <th>likelihood_feature</th>\n",
       "    </tr>\n",
       "  </thead>\n",
       "  <tbody>\n",
       "    <tr>\n",
       "      <th>0</th>\n",
       "      <td>Female</td>\n",
       "      <td>0.537594</td>\n",
       "      <td>0.066948</td>\n",
       "    </tr>\n",
       "    <tr>\n",
       "      <th>1</th>\n",
       "      <td>Educ</td>\n",
       "      <td>0.349624</td>\n",
       "      <td>0.047595</td>\n",
       "    </tr>\n",
       "    <tr>\n",
       "      <th>2</th>\n",
       "      <td>Unmarried</td>\n",
       "      <td>0.439850</td>\n",
       "      <td>0.081306</td>\n",
       "    </tr>\n",
       "    <tr>\n",
       "      <th>3</th>\n",
       "      <td>Income</td>\n",
       "      <td>0.281955</td>\n",
       "      <td>0.040628</td>\n",
       "    </tr>\n",
       "    <tr>\n",
       "      <th>4</th>\n",
       "      <td>Insured</td>\n",
       "      <td>0.966165</td>\n",
       "      <td>0.076694</td>\n",
       "    </tr>\n",
       "    <tr>\n",
       "      <th>5</th>\n",
       "      <td>Obese</td>\n",
       "      <td>0.349624</td>\n",
       "      <td>0.072543</td>\n",
       "    </tr>\n",
       "    <tr>\n",
       "      <th>6</th>\n",
       "      <td>Dyslipidemia</td>\n",
       "      <td>0.105263</td>\n",
       "      <td>0.065268</td>\n",
       "    </tr>\n",
       "    <tr>\n",
       "      <th>7</th>\n",
       "      <td>PVD</td>\n",
       "      <td>0.142857</td>\n",
       "      <td>0.269504</td>\n",
       "    </tr>\n",
       "    <tr>\n",
       "      <th>8</th>\n",
       "      <td>PoorVision</td>\n",
       "      <td>0.139098</td>\n",
       "      <td>0.166667</td>\n",
       "    </tr>\n",
       "    <tr>\n",
       "      <th>9</th>\n",
       "      <td>Smoker</td>\n",
       "      <td>0.398496</td>\n",
       "      <td>0.083927</td>\n",
       "    </tr>\n",
       "    <tr>\n",
       "      <th>10</th>\n",
       "      <td>Hypertension</td>\n",
       "      <td>0.793233</td>\n",
       "      <td>0.134824</td>\n",
       "    </tr>\n",
       "    <tr>\n",
       "      <th>11</th>\n",
       "      <td>Fam.Hypertension</td>\n",
       "      <td>0.184211</td>\n",
       "      <td>0.046800</td>\n",
       "    </tr>\n",
       "    <tr>\n",
       "      <th>12</th>\n",
       "      <td>Diabetes</td>\n",
       "      <td>0.285714</td>\n",
       "      <td>0.176334</td>\n",
       "    </tr>\n",
       "    <tr>\n",
       "      <th>13</th>\n",
       "      <td>Fam.Diabetes</td>\n",
       "      <td>0.345865</td>\n",
       "      <td>0.070988</td>\n",
       "    </tr>\n",
       "    <tr>\n",
       "      <th>14</th>\n",
       "      <td>Stroke</td>\n",
       "      <td>0.112782</td>\n",
       "      <td>0.297030</td>\n",
       "    </tr>\n",
       "    <tr>\n",
       "      <th>15</th>\n",
       "      <td>CVD</td>\n",
       "      <td>0.229323</td>\n",
       "      <td>0.262931</td>\n",
       "    </tr>\n",
       "    <tr>\n",
       "      <th>16</th>\n",
       "      <td>Fam.CVD</td>\n",
       "      <td>0.263158</td>\n",
       "      <td>0.047554</td>\n",
       "    </tr>\n",
       "    <tr>\n",
       "      <th>17</th>\n",
       "      <td>CHF</td>\n",
       "      <td>0.086466</td>\n",
       "      <td>0.250000</td>\n",
       "    </tr>\n",
       "    <tr>\n",
       "      <th>18</th>\n",
       "      <td>Anemia</td>\n",
       "      <td>0.030075</td>\n",
       "      <td>0.102564</td>\n",
       "    </tr>\n",
       "    <tr>\n",
       "      <th>19</th>\n",
       "      <td>Racegrpblack</td>\n",
       "      <td>0.165414</td>\n",
       "      <td>0.064611</td>\n",
       "    </tr>\n",
       "    <tr>\n",
       "      <th>20</th>\n",
       "      <td>Racegrphispa</td>\n",
       "      <td>0.112782</td>\n",
       "      <td>0.026549</td>\n",
       "    </tr>\n",
       "    <tr>\n",
       "      <th>21</th>\n",
       "      <td>Racegrpother</td>\n",
       "      <td>0.015038</td>\n",
       "      <td>0.032258</td>\n",
       "    </tr>\n",
       "    <tr>\n",
       "      <th>22</th>\n",
       "      <td>Racegrpwhite</td>\n",
       "      <td>0.706767</td>\n",
       "      <td>0.085416</td>\n",
       "    </tr>\n",
       "    <tr>\n",
       "      <th>23</th>\n",
       "      <td>CareSourceclinic</td>\n",
       "      <td>0.203008</td>\n",
       "      <td>0.062572</td>\n",
       "    </tr>\n",
       "    <tr>\n",
       "      <th>24</th>\n",
       "      <td>CareSourceDrHMO</td>\n",
       "      <td>0.710526</td>\n",
       "      <td>0.076923</td>\n",
       "    </tr>\n",
       "    <tr>\n",
       "      <th>25</th>\n",
       "      <td>CareSourcenoplace</td>\n",
       "      <td>0.033835</td>\n",
       "      <td>0.014469</td>\n",
       "    </tr>\n",
       "    <tr>\n",
       "      <th>26</th>\n",
       "      <td>CareSourceother</td>\n",
       "      <td>0.052632</td>\n",
       "      <td>0.072539</td>\n",
       "    </tr>\n",
       "    <tr>\n",
       "      <th>27</th>\n",
       "      <td>new_Activity</td>\n",
       "      <td>0.086466</td>\n",
       "      <td>0.025556</td>\n",
       "    </tr>\n",
       "    <tr>\n",
       "      <th>28</th>\n",
       "      <td>new_Age</td>\n",
       "      <td>0.951128</td>\n",
       "      <td>0.126754</td>\n",
       "    </tr>\n",
       "    <tr>\n",
       "      <th>29</th>\n",
       "      <td>new_Weight</td>\n",
       "      <td>0.522556</td>\n",
       "      <td>0.067247</td>\n",
       "    </tr>\n",
       "    <tr>\n",
       "      <th>30</th>\n",
       "      <td>new_Height</td>\n",
       "      <td>0.458647</td>\n",
       "      <td>0.058994</td>\n",
       "    </tr>\n",
       "    <tr>\n",
       "      <th>31</th>\n",
       "      <td>new_BMI</td>\n",
       "      <td>0.545113</td>\n",
       "      <td>0.070116</td>\n",
       "    </tr>\n",
       "    <tr>\n",
       "      <th>32</th>\n",
       "      <td>new_Waist</td>\n",
       "      <td>0.654135</td>\n",
       "      <td>0.084466</td>\n",
       "    </tr>\n",
       "    <tr>\n",
       "      <th>33</th>\n",
       "      <td>new_SBP</td>\n",
       "      <td>0.770677</td>\n",
       "      <td>0.101435</td>\n",
       "    </tr>\n",
       "    <tr>\n",
       "      <th>34</th>\n",
       "      <td>new_DBP</td>\n",
       "      <td>0.409774</td>\n",
       "      <td>0.054582</td>\n",
       "    </tr>\n",
       "    <tr>\n",
       "      <th>35</th>\n",
       "      <td>new_HDL</td>\n",
       "      <td>0.390977</td>\n",
       "      <td>0.051948</td>\n",
       "    </tr>\n",
       "    <tr>\n",
       "      <th>36</th>\n",
       "      <td>new_LDL</td>\n",
       "      <td>0.545113</td>\n",
       "      <td>0.070870</td>\n",
       "    </tr>\n",
       "    <tr>\n",
       "      <th>37</th>\n",
       "      <td>new_Total.Chol</td>\n",
       "      <td>0.518797</td>\n",
       "      <td>0.067383</td>\n",
       "    </tr>\n",
       "  </tbody>\n",
       "</table>\n",
       "</div>"
      ],
      "text/plain": [
       "             features  likelihood_ckd  likelihood_feature\n",
       "0              Female        0.537594            0.066948\n",
       "1                Educ        0.349624            0.047595\n",
       "2           Unmarried        0.439850            0.081306\n",
       "3              Income        0.281955            0.040628\n",
       "4             Insured        0.966165            0.076694\n",
       "5               Obese        0.349624            0.072543\n",
       "6        Dyslipidemia        0.105263            0.065268\n",
       "7                 PVD        0.142857            0.269504\n",
       "8          PoorVision        0.139098            0.166667\n",
       "9              Smoker        0.398496            0.083927\n",
       "10       Hypertension        0.793233            0.134824\n",
       "11   Fam.Hypertension        0.184211            0.046800\n",
       "12           Diabetes        0.285714            0.176334\n",
       "13       Fam.Diabetes        0.345865            0.070988\n",
       "14             Stroke        0.112782            0.297030\n",
       "15                CVD        0.229323            0.262931\n",
       "16            Fam.CVD        0.263158            0.047554\n",
       "17                CHF        0.086466            0.250000\n",
       "18             Anemia        0.030075            0.102564\n",
       "19       Racegrpblack        0.165414            0.064611\n",
       "20       Racegrphispa        0.112782            0.026549\n",
       "21       Racegrpother        0.015038            0.032258\n",
       "22       Racegrpwhite        0.706767            0.085416\n",
       "23   CareSourceclinic        0.203008            0.062572\n",
       "24    CareSourceDrHMO        0.710526            0.076923\n",
       "25  CareSourcenoplace        0.033835            0.014469\n",
       "26    CareSourceother        0.052632            0.072539\n",
       "27       new_Activity        0.086466            0.025556\n",
       "28            new_Age        0.951128            0.126754\n",
       "29         new_Weight        0.522556            0.067247\n",
       "30         new_Height        0.458647            0.058994\n",
       "31            new_BMI        0.545113            0.070116\n",
       "32          new_Waist        0.654135            0.084466\n",
       "33            new_SBP        0.770677            0.101435\n",
       "34            new_DBP        0.409774            0.054582\n",
       "35            new_HDL        0.390977            0.051948\n",
       "36            new_LDL        0.545113            0.070870\n",
       "37     new_Total.Chol        0.518797            0.067383"
      ]
     },
     "execution_count": 147,
     "metadata": {},
     "output_type": "execute_result"
    }
   ],
   "source": [
    "df_prob"
   ]
  },
  {
   "cell_type": "code",
   "execution_count": 152,
   "metadata": {},
   "outputs": [],
   "source": [
    "df_prob['likelihood_combine']=df_prob['likelihood_ckd']*df_prob['likelihood_feature']"
   ]
  },
  {
   "cell_type": "code",
   "execution_count": 160,
   "metadata": {},
   "outputs": [
    {
     "data": {
      "text/html": [
       "<div>\n",
       "<style scoped>\n",
       "    .dataframe tbody tr th:only-of-type {\n",
       "        vertical-align: middle;\n",
       "    }\n",
       "\n",
       "    .dataframe tbody tr th {\n",
       "        vertical-align: top;\n",
       "    }\n",
       "\n",
       "    .dataframe thead th {\n",
       "        text-align: right;\n",
       "    }\n",
       "</style>\n",
       "<table border=\"1\" class=\"dataframe\">\n",
       "  <thead>\n",
       "    <tr style=\"text-align: right;\">\n",
       "      <th></th>\n",
       "      <th>features</th>\n",
       "      <th>likelihood_feature</th>\n",
       "    </tr>\n",
       "  </thead>\n",
       "  <tbody>\n",
       "    <tr>\n",
       "      <th>14</th>\n",
       "      <td>Stroke</td>\n",
       "      <td>0.297030</td>\n",
       "    </tr>\n",
       "    <tr>\n",
       "      <th>7</th>\n",
       "      <td>PVD</td>\n",
       "      <td>0.269504</td>\n",
       "    </tr>\n",
       "    <tr>\n",
       "      <th>15</th>\n",
       "      <td>CVD</td>\n",
       "      <td>0.262931</td>\n",
       "    </tr>\n",
       "    <tr>\n",
       "      <th>17</th>\n",
       "      <td>CHF</td>\n",
       "      <td>0.250000</td>\n",
       "    </tr>\n",
       "    <tr>\n",
       "      <th>12</th>\n",
       "      <td>Diabetes</td>\n",
       "      <td>0.176334</td>\n",
       "    </tr>\n",
       "    <tr>\n",
       "      <th>8</th>\n",
       "      <td>PoorVision</td>\n",
       "      <td>0.166667</td>\n",
       "    </tr>\n",
       "    <tr>\n",
       "      <th>10</th>\n",
       "      <td>Hypertension</td>\n",
       "      <td>0.134824</td>\n",
       "    </tr>\n",
       "    <tr>\n",
       "      <th>28</th>\n",
       "      <td>new_Age</td>\n",
       "      <td>0.126754</td>\n",
       "    </tr>\n",
       "    <tr>\n",
       "      <th>18</th>\n",
       "      <td>Anemia</td>\n",
       "      <td>0.102564</td>\n",
       "    </tr>\n",
       "    <tr>\n",
       "      <th>33</th>\n",
       "      <td>new_SBP</td>\n",
       "      <td>0.101435</td>\n",
       "    </tr>\n",
       "    <tr>\n",
       "      <th>22</th>\n",
       "      <td>Racegrpwhite</td>\n",
       "      <td>0.085416</td>\n",
       "    </tr>\n",
       "    <tr>\n",
       "      <th>32</th>\n",
       "      <td>new_Waist</td>\n",
       "      <td>0.084466</td>\n",
       "    </tr>\n",
       "    <tr>\n",
       "      <th>9</th>\n",
       "      <td>Smoker</td>\n",
       "      <td>0.083927</td>\n",
       "    </tr>\n",
       "    <tr>\n",
       "      <th>2</th>\n",
       "      <td>Unmarried</td>\n",
       "      <td>0.081306</td>\n",
       "    </tr>\n",
       "    <tr>\n",
       "      <th>24</th>\n",
       "      <td>CareSourceDrHMO</td>\n",
       "      <td>0.076923</td>\n",
       "    </tr>\n",
       "  </tbody>\n",
       "</table>\n",
       "</div>"
      ],
      "text/plain": [
       "           features  likelihood_feature\n",
       "14           Stroke            0.297030\n",
       "7               PVD            0.269504\n",
       "15              CVD            0.262931\n",
       "17              CHF            0.250000\n",
       "12         Diabetes            0.176334\n",
       "8        PoorVision            0.166667\n",
       "10     Hypertension            0.134824\n",
       "28          new_Age            0.126754\n",
       "18           Anemia            0.102564\n",
       "33          new_SBP            0.101435\n",
       "22     Racegrpwhite            0.085416\n",
       "32        new_Waist            0.084466\n",
       "9            Smoker            0.083927\n",
       "2         Unmarried            0.081306\n",
       "24  CareSourceDrHMO            0.076923"
      ]
     },
     "execution_count": 160,
     "metadata": {},
     "output_type": "execute_result"
    }
   ],
   "source": [
    "# look at first highest prob 15 features \n",
    "df_prob.sort_values('likelihood_feature',ascending=False)[0:15][['features','likelihood_feature']]"
   ]
  },
  {
   "cell_type": "code",
   "execution_count": 168,
   "metadata": {},
   "outputs": [
    {
     "data": {
      "text/html": [
       "<div>\n",
       "<style scoped>\n",
       "    .dataframe tbody tr th:only-of-type {\n",
       "        vertical-align: middle;\n",
       "    }\n",
       "\n",
       "    .dataframe tbody tr th {\n",
       "        vertical-align: top;\n",
       "    }\n",
       "\n",
       "    .dataframe thead th {\n",
       "        text-align: right;\n",
       "    }\n",
       "</style>\n",
       "<table border=\"1\" class=\"dataframe\">\n",
       "  <thead>\n",
       "    <tr style=\"text-align: right;\">\n",
       "      <th></th>\n",
       "      <th>features</th>\n",
       "      <th>likelihood_combine</th>\n",
       "    </tr>\n",
       "  </thead>\n",
       "  <tbody>\n",
       "    <tr>\n",
       "      <th>28</th>\n",
       "      <td>new_Age</td>\n",
       "      <td>0.120559</td>\n",
       "    </tr>\n",
       "    <tr>\n",
       "      <th>10</th>\n",
       "      <td>Hypertension</td>\n",
       "      <td>0.106947</td>\n",
       "    </tr>\n",
       "    <tr>\n",
       "      <th>33</th>\n",
       "      <td>new_SBP</td>\n",
       "      <td>0.078174</td>\n",
       "    </tr>\n",
       "    <tr>\n",
       "      <th>4</th>\n",
       "      <td>Insured</td>\n",
       "      <td>0.074099</td>\n",
       "    </tr>\n",
       "    <tr>\n",
       "      <th>22</th>\n",
       "      <td>Racegrpwhite</td>\n",
       "      <td>0.060369</td>\n",
       "    </tr>\n",
       "    <tr>\n",
       "      <th>15</th>\n",
       "      <td>CVD</td>\n",
       "      <td>0.060296</td>\n",
       "    </tr>\n",
       "    <tr>\n",
       "      <th>32</th>\n",
       "      <td>new_Waist</td>\n",
       "      <td>0.055252</td>\n",
       "    </tr>\n",
       "    <tr>\n",
       "      <th>24</th>\n",
       "      <td>CareSourceDrHMO</td>\n",
       "      <td>0.054656</td>\n",
       "    </tr>\n",
       "    <tr>\n",
       "      <th>12</th>\n",
       "      <td>Diabetes</td>\n",
       "      <td>0.050381</td>\n",
       "    </tr>\n",
       "    <tr>\n",
       "      <th>36</th>\n",
       "      <td>new_LDL</td>\n",
       "      <td>0.038632</td>\n",
       "    </tr>\n",
       "    <tr>\n",
       "      <th>7</th>\n",
       "      <td>PVD</td>\n",
       "      <td>0.038501</td>\n",
       "    </tr>\n",
       "    <tr>\n",
       "      <th>31</th>\n",
       "      <td>new_BMI</td>\n",
       "      <td>0.038221</td>\n",
       "    </tr>\n",
       "    <tr>\n",
       "      <th>0</th>\n",
       "      <td>Female</td>\n",
       "      <td>0.035991</td>\n",
       "    </tr>\n",
       "    <tr>\n",
       "      <th>2</th>\n",
       "      <td>Unmarried</td>\n",
       "      <td>0.035763</td>\n",
       "    </tr>\n",
       "    <tr>\n",
       "      <th>29</th>\n",
       "      <td>new_Weight</td>\n",
       "      <td>0.035140</td>\n",
       "    </tr>\n",
       "  </tbody>\n",
       "</table>\n",
       "</div>"
      ],
      "text/plain": [
       "           features  likelihood_combine\n",
       "28          new_Age            0.120559\n",
       "10     Hypertension            0.106947\n",
       "33          new_SBP            0.078174\n",
       "4           Insured            0.074099\n",
       "22     Racegrpwhite            0.060369\n",
       "15              CVD            0.060296\n",
       "32        new_Waist            0.055252\n",
       "24  CareSourceDrHMO            0.054656\n",
       "12         Diabetes            0.050381\n",
       "36          new_LDL            0.038632\n",
       "7               PVD            0.038501\n",
       "31          new_BMI            0.038221\n",
       "0            Female            0.035991\n",
       "2         Unmarried            0.035763\n",
       "29       new_Weight            0.035140"
      ]
     },
     "execution_count": 168,
     "metadata": {},
     "output_type": "execute_result"
    }
   ],
   "source": [
    "# look at first highest prob 15 features \n",
    "df_prob.sort_values('likelihood_combine',ascending=False)[0:15][['features','likelihood_combine']]"
   ]
  },
  {
   "cell_type": "code",
   "execution_count": 169,
   "metadata": {},
   "outputs": [
    {
     "data": {
      "text/plain": [
       "['Stroke',\n",
       " 'PVD',\n",
       " 'CVD',\n",
       " 'CHF',\n",
       " 'Diabetes',\n",
       " 'PoorVision',\n",
       " 'Hypertension',\n",
       " 'new_Age',\n",
       " 'Anemia',\n",
       " 'new_SBP',\n",
       " 'Racegrpwhite',\n",
       " 'new_Waist',\n",
       " 'Smoker',\n",
       " 'Unmarried',\n",
       " 'CareSourceDrHMO']"
      ]
     },
     "execution_count": 169,
     "metadata": {},
     "output_type": "execute_result"
    }
   ],
   "source": [
    "# get feature names for modeling\n",
    "fea_prob_col=list(df_prob.sort_values('likelihood_feature',ascending=False)[0:15]['features'])\n",
    "fea_prob_col"
   ]
  },
  {
   "cell_type": "code",
   "execution_count": 170,
   "metadata": {},
   "outputs": [
    {
     "data": {
      "text/plain": [
       "['new_Age',\n",
       " 'Hypertension',\n",
       " 'new_SBP',\n",
       " 'Insured',\n",
       " 'Racegrpwhite',\n",
       " 'CVD',\n",
       " 'new_Waist',\n",
       " 'CareSourceDrHMO',\n",
       " 'Diabetes',\n",
       " 'new_LDL',\n",
       " 'PVD',\n",
       " 'new_BMI',\n",
       " 'Female',\n",
       " 'Unmarried',\n",
       " 'new_Weight']"
      ]
     },
     "execution_count": 170,
     "metadata": {},
     "output_type": "execute_result"
    }
   ],
   "source": [
    "# get feature names for modeling, they are in Dec order\n",
    "comb_prob_col=list(df_prob.sort_values('likelihood_combine',ascending=False)[0:15]['features'])\n",
    "comb_prob_col"
   ]
  },
  {
   "cell_type": "code",
   "execution_count": 174,
   "metadata": {},
   "outputs": [
    {
     "data": {
      "text/plain": [
       "['Hypertension',\n",
       " 'CareSourceDrHMO',\n",
       " 'new_SBP',\n",
       " 'new_Age',\n",
       " 'new_Waist',\n",
       " 'Unmarried',\n",
       " 'Racegrpwhite',\n",
       " 'PVD',\n",
       " 'Diabetes',\n",
       " 'CVD']"
      ]
     },
     "execution_count": 174,
     "metadata": {},
     "output_type": "execute_result"
    }
   ],
   "source": [
    "# get common features for modeling, they are in Dec order\n",
    "common_col=list(set(comb_prob_col) & set(fea_prob_col))\n",
    "common_col"
   ]
  },
  {
   "cell_type": "markdown",
   "metadata": {},
   "source": [
    "# continious feature preprocessing (normal distributed & similar variance)"
   ]
  },
  {
   "cell_type": "code",
   "execution_count": 8,
   "metadata": {},
   "outputs": [],
   "source": [
    "#load original data\n",
    "df_original=pd.read_csv('4163.csv')"
   ]
  },
  {
   "cell_type": "code",
   "execution_count": 176,
   "metadata": {},
   "outputs": [
    {
     "data": {
      "text/html": [
       "<div>\n",
       "<style scoped>\n",
       "    .dataframe tbody tr th:only-of-type {\n",
       "        vertical-align: middle;\n",
       "    }\n",
       "\n",
       "    .dataframe tbody tr th {\n",
       "        vertical-align: top;\n",
       "    }\n",
       "\n",
       "    .dataframe thead th {\n",
       "        text-align: right;\n",
       "    }\n",
       "</style>\n",
       "<table border=\"1\" class=\"dataframe\">\n",
       "  <thead>\n",
       "    <tr style=\"text-align: right;\">\n",
       "      <th></th>\n",
       "      <th>id</th>\n",
       "      <th>Age</th>\n",
       "      <th>Female</th>\n",
       "      <th>Educ</th>\n",
       "      <th>Unmarried</th>\n",
       "      <th>Income</th>\n",
       "      <th>Insured</th>\n",
       "      <th>Weight</th>\n",
       "      <th>Height</th>\n",
       "      <th>BMI</th>\n",
       "      <th>...</th>\n",
       "      <th>Anemia</th>\n",
       "      <th>CKD</th>\n",
       "      <th>Racegrpblack</th>\n",
       "      <th>Racegrphispa</th>\n",
       "      <th>Racegrpother</th>\n",
       "      <th>Racegrpwhite</th>\n",
       "      <th>CareSourceclinic</th>\n",
       "      <th>CareSourceDrHMO</th>\n",
       "      <th>CareSourcenoplace</th>\n",
       "      <th>CareSourceother</th>\n",
       "    </tr>\n",
       "  </thead>\n",
       "  <tbody>\n",
       "    <tr>\n",
       "      <th>0</th>\n",
       "      <td>1</td>\n",
       "      <td>65</td>\n",
       "      <td>1</td>\n",
       "      <td>0</td>\n",
       "      <td>0</td>\n",
       "      <td>1</td>\n",
       "      <td>1</td>\n",
       "      <td>56.0</td>\n",
       "      <td>162.1</td>\n",
       "      <td>21.31</td>\n",
       "      <td>...</td>\n",
       "      <td>0</td>\n",
       "      <td>0</td>\n",
       "      <td>0</td>\n",
       "      <td>0</td>\n",
       "      <td>0</td>\n",
       "      <td>1</td>\n",
       "      <td>0</td>\n",
       "      <td>0</td>\n",
       "      <td>0</td>\n",
       "      <td>1</td>\n",
       "    </tr>\n",
       "    <tr>\n",
       "      <th>1</th>\n",
       "      <td>3</td>\n",
       "      <td>66</td>\n",
       "      <td>1</td>\n",
       "      <td>0</td>\n",
       "      <td>1</td>\n",
       "      <td>0</td>\n",
       "      <td>1</td>\n",
       "      <td>83.9</td>\n",
       "      <td>162.5</td>\n",
       "      <td>31.77</td>\n",
       "      <td>...</td>\n",
       "      <td>0</td>\n",
       "      <td>0</td>\n",
       "      <td>0</td>\n",
       "      <td>0</td>\n",
       "      <td>0</td>\n",
       "      <td>1</td>\n",
       "      <td>0</td>\n",
       "      <td>0</td>\n",
       "      <td>1</td>\n",
       "      <td>0</td>\n",
       "    </tr>\n",
       "    <tr>\n",
       "      <th>2</th>\n",
       "      <td>4</td>\n",
       "      <td>54</td>\n",
       "      <td>1</td>\n",
       "      <td>1</td>\n",
       "      <td>0</td>\n",
       "      <td>0</td>\n",
       "      <td>1</td>\n",
       "      <td>69.4</td>\n",
       "      <td>160.5</td>\n",
       "      <td>26.94</td>\n",
       "      <td>...</td>\n",
       "      <td>0</td>\n",
       "      <td>0</td>\n",
       "      <td>0</td>\n",
       "      <td>0</td>\n",
       "      <td>0</td>\n",
       "      <td>1</td>\n",
       "      <td>0</td>\n",
       "      <td>1</td>\n",
       "      <td>0</td>\n",
       "      <td>0</td>\n",
       "    </tr>\n",
       "    <tr>\n",
       "      <th>3</th>\n",
       "      <td>6</td>\n",
       "      <td>26</td>\n",
       "      <td>0</td>\n",
       "      <td>1</td>\n",
       "      <td>0</td>\n",
       "      <td>0</td>\n",
       "      <td>1</td>\n",
       "      <td>119.3</td>\n",
       "      <td>193.2</td>\n",
       "      <td>31.96</td>\n",
       "      <td>...</td>\n",
       "      <td>0</td>\n",
       "      <td>0</td>\n",
       "      <td>0</td>\n",
       "      <td>0</td>\n",
       "      <td>0</td>\n",
       "      <td>1</td>\n",
       "      <td>0</td>\n",
       "      <td>1</td>\n",
       "      <td>0</td>\n",
       "      <td>0</td>\n",
       "    </tr>\n",
       "    <tr>\n",
       "      <th>4</th>\n",
       "      <td>7</td>\n",
       "      <td>66</td>\n",
       "      <td>0</td>\n",
       "      <td>1</td>\n",
       "      <td>0</td>\n",
       "      <td>0</td>\n",
       "      <td>0</td>\n",
       "      <td>85.1</td>\n",
       "      <td>172.1</td>\n",
       "      <td>28.73</td>\n",
       "      <td>...</td>\n",
       "      <td>0</td>\n",
       "      <td>0</td>\n",
       "      <td>1</td>\n",
       "      <td>0</td>\n",
       "      <td>0</td>\n",
       "      <td>0</td>\n",
       "      <td>0</td>\n",
       "      <td>1</td>\n",
       "      <td>0</td>\n",
       "      <td>0</td>\n",
       "    </tr>\n",
       "  </tbody>\n",
       "</table>\n",
       "<p>5 rows × 40 columns</p>\n",
       "</div>"
      ],
      "text/plain": [
       "   id  Age  Female  Educ  Unmarried  Income  Insured  Weight  Height    BMI  \\\n",
       "0   1   65       1     0          0       1        1    56.0   162.1  21.31   \n",
       "1   3   66       1     0          1       0        1    83.9   162.5  31.77   \n",
       "2   4   54       1     1          0       0        1    69.4   160.5  26.94   \n",
       "3   6   26       0     1          0       0        1   119.3   193.2  31.96   \n",
       "4   7   66       0     1          0       0        0    85.1   172.1  28.73   \n",
       "\n",
       "   ...  Anemia  CKD  Racegrpblack  Racegrphispa  Racegrpother  Racegrpwhite  \\\n",
       "0  ...       0    0             0             0             0             1   \n",
       "1  ...       0    0             0             0             0             1   \n",
       "2  ...       0    0             0             0             0             1   \n",
       "3  ...       0    0             0             0             0             1   \n",
       "4  ...       0    0             1             0             0             0   \n",
       "\n",
       "   CareSourceclinic  CareSourceDrHMO  CareSourcenoplace  CareSourceother  \n",
       "0                 0                0                  0                1  \n",
       "1                 0                0                  1                0  \n",
       "2                 0                1                  0                0  \n",
       "3                 0                1                  0                0  \n",
       "4                 0                1                  0                0  \n",
       "\n",
       "[5 rows x 40 columns]"
      ]
     },
     "execution_count": 176,
     "metadata": {},
     "output_type": "execute_result"
    }
   ],
   "source": [
    "#have a look at first 5 rows\n",
    "df_original.head()"
   ]
  },
  {
   "cell_type": "code",
   "execution_count": 9,
   "metadata": {},
   "outputs": [],
   "source": [
    "# remove id\n",
    "df_original=df_original.drop('id',axis=1)"
   ]
  },
  {
   "cell_type": "code",
   "execution_count": 180,
   "metadata": {},
   "outputs": [
    {
     "data": {
      "text/plain": [
       "Age                   330.931916\n",
       "Female                  0.249790\n",
       "Educ                    0.249301\n",
       "Unmarried               0.226927\n",
       "Income                  0.247179\n",
       "Insured                 0.153811\n",
       "Weight                368.011677\n",
       "Height                100.421709\n",
       "BMI                    37.317719\n",
       "Obese                   0.213937\n",
       "Waist                 229.725963\n",
       "SBP                   401.445712\n",
       "DBP                   147.855385\n",
       "HDL                   246.894918\n",
       "LDL                  1787.429386\n",
       "Total.Chol           1765.527074\n",
       "Dyslipidemia            0.092987\n",
       "PVD                     0.032937\n",
       "Activity                0.646629\n",
       "PoorVision              0.050806\n",
       "Smoker                  0.212169\n",
       "Hypertension            0.235267\n",
       "Fam.Hypertension        0.189107\n",
       "Diabetes                0.093370\n",
       "Fam.Diabetes            0.215212\n",
       "Stroke                  0.023829\n",
       "CVD                     0.052959\n",
       "Fam.CVD                 0.229290\n",
       "CHF                     0.021754\n",
       "Anemia                  0.018508\n",
       "CKD                     0.060192\n",
       "Racegrpblack            0.137575\n",
       "Racegrphispa            0.198615\n",
       "Racegrpother            0.029089\n",
       "Racegrpwhite            0.249026\n",
       "CareSourceclinic        0.165158\n",
       "CareSourceDrHMO         0.241212\n",
       "CareSourcenoplace       0.127802\n",
       "CareSourceother         0.044497\n",
       "dtype: float64"
      ]
     },
     "execution_count": 180,
     "metadata": {},
     "output_type": "execute_result"
    }
   ],
   "source": [
    "# look at the variance of each col, some of them have a very high variance\n",
    "df_original.var()"
   ]
  },
  {
   "cell_type": "code",
   "execution_count": 11,
   "metadata": {},
   "outputs": [
    {
     "data": {
      "text/plain": [
       "Index(['Age', 'Weight', 'Height', 'BMI', 'Waist', 'SBP', 'DBP', 'HDL', 'LDL',\n",
       "       'Total.Chol'],\n",
       "      dtype='object')"
      ]
     },
     "execution_count": 11,
     "metadata": {},
     "output_type": "execute_result"
    }
   ],
   "source": [
    "#filter continious columns\n",
    "conti_col=df_original.columns[df_original.var()>1]\n",
    "conti_col"
   ]
  },
  {
   "cell_type": "code",
   "execution_count": 244,
   "metadata": {},
   "outputs": [
    {
     "data": {
      "image/png": "[encoded data removed]",
      "text/plain": [
       "<Figure size 432x288 with 1 Axes>"
      ]
     },
     "metadata": {
      "needs_background": "light"
     },
     "output_type": "display_data"
    },
    {
     "data": {
      "image/png": "[encoded data removed]",
      "text/plain": [
       "<Figure size 432x288 with 1 Axes>"
      ]
     },
     "metadata": {
      "needs_background": "light"
     },
     "output_type": "display_data"
    },
    {
     "data": {
      "image/png": "[encoded data removed]",
      "text/plain": [
       "<Figure size 432x288 with 1 Axes>"
      ]
     },
     "metadata": {
      "needs_background": "light"
     },
     "output_type": "display_data"
    },
    {
     "data": {
      "image/png": "[encoded data removed]",
      "text/plain": [
       "<Figure size 432x288 with 1 Axes>"
      ]
     },
     "metadata": {
      "needs_background": "light"
     },
     "output_type": "display_data"
    },
    {
     "data": {
      "image/png": "[encoded data removed]",
      "text/plain": [
       "<Figure size 432x288 with 1 Axes>"
      ]
     },
     "metadata": {
      "needs_background": "light"
     },
     "output_type": "display_data"
    },
    {
     "data": {
      "image/png": "[encoded data removed]",
      "text/plain": [
       "<Figure size 432x288 with 1 Axes>"
      ]
     },
     "metadata": {
      "needs_background": "light"
     },
     "output_type": "display_data"
    },
    {
     "data": {
      "image/png": "[encoded data removed]",
      "text/plain": [
       "<Figure size 432x288 with 1 Axes>"
      ]
     },
     "metadata": {
      "needs_background": "light"
     },
     "output_type": "display_data"
    },
    {
     "data": {
      "image/png": "[encoded data removed]",
      "text/plain": [
       "<Figure size 432x288 with 1 Axes>"
      ]
     },
     "metadata": {
      "needs_background": "light"
     },
     "output_type": "display_data"
    },
    {
     "data": {
      "image/png": "[encoded data removed]",
      "text/plain": [
       "<Figure size 432x288 with 1 Axes>"
      ]
     },
     "metadata": {
      "needs_background": "light"
     },
     "output_type": "display_data"
    },
    {
     "data": {
      "image/png": "[encoded data removed]",
      "text/plain": [
       "<Figure size 432x288 with 1 Axes>"
      ]
     },
     "metadata": {
      "needs_background": "light"
     },
     "output_type": "display_data"
    }
   ],
   "source": [
    "# take a look at all the conti features' distribution\n",
    "# bins = sqrt of sample size\n",
    "bins=int(round(np.sqrt(df_original.shape[0]))) #64\n",
    "for col in conti_col:\n",
    "    df_original[col].plot(kind='hist',bins=bins)\n",
    "    plt.xlabel(col)\n",
    "    plt.show()"
   ]
  },
  {
   "cell_type": "code",
   "execution_count": 245,
   "metadata": {},
   "outputs": [
    {
     "data": {
      "image/png": "[encoded data removed]",
      "text/plain": [
       "<Figure size 432x288 with 1 Axes>"
      ]
     },
     "metadata": {
      "needs_background": "light"
     },
     "output_type": "display_data"
    },
    {
     "data": {
      "image/png": "[encoded data removed]",
      "text/plain": [
       "<Figure size 432x288 with 1 Axes>"
      ]
     },
     "metadata": {
      "needs_background": "light"
     },
     "output_type": "display_data"
    },
    {
     "data": {
      "image/png": "[encoded data removed]",
      "text/plain": [
       "<Figure size 432x288 with 1 Axes>"
      ]
     },
     "metadata": {
      "needs_background": "light"
     },
     "output_type": "display_data"
    },
    {
     "data": {
      "image/png": "[encoded data removed]",
      "text/plain": [
       "<Figure size 432x288 with 1 Axes>"
      ]
     },
     "metadata": {
      "needs_background": "light"
     },
     "output_type": "display_data"
    },
    {
     "data": {
      "image/png": "[encoded data removed]",
      "text/plain": [
       "<Figure size 432x288 with 1 Axes>"
      ]
     },
     "metadata": {
      "needs_background": "light"
     },
     "output_type": "display_data"
    },
    {
     "data": {
      "image/png": "[encoded data removed]",
      "text/plain": [
       "<Figure size 432x288 with 1 Axes>"
      ]
     },
     "metadata": {
      "needs_background": "light"
     },
     "output_type": "display_data"
    },
    {
     "data": {
      "image/png": "[encoded data removed]",
      "text/plain": [
       "<Figure size 432x288 with 1 Axes>"
      ]
     },
     "metadata": {
      "needs_background": "light"
     },
     "output_type": "display_data"
    },
    {
     "data": {
      "image/png": "[encoded data removed]",
      "text/plain": [
       "<Figure size 432x288 with 1 Axes>"
      ]
     },
     "metadata": {
      "needs_background": "light"
     },
     "output_type": "display_data"
    },
    {
     "data": {
      "image/png": "[encoded data removed]",
      "text/plain": [
       "<Figure size 432x288 with 1 Axes>"
      ]
     },
     "metadata": {
      "needs_background": "light"
     },
     "output_type": "display_data"
    },
    {
     "data": {
      "image/png": "[encoded data removed]",
      "text/plain": [
       "<Figure size 432x288 with 1 Axes>"
      ]
     },
     "metadata": {
      "needs_background": "light"
     },
     "output_type": "display_data"
    }
   ],
   "source": [
    "# log these features and see again, they are better and normally distributed, we can log them and std them\n",
    "for col in conti_col:\n",
    "    np.log(df_original[col]).plot(kind='hist',bins=64)\n",
    "    plt.xlabel(col)\n",
    "    plt.show()"
   ]
  },
  {
   "cell_type": "code",
   "execution_count": 13,
   "metadata": {},
   "outputs": [],
   "source": [
    "# copy df_original and logrithm continous features \n",
    "df_log=df_original.copy()\n",
    "df_log[conti_col]=np.log(df_log[conti_col])"
   ]
  },
  {
   "cell_type": "code",
   "execution_count": 14,
   "metadata": {},
   "outputs": [
    {
     "data": {
      "text/html": [
       "<div>\n",
       "<style scoped>\n",
       "    .dataframe tbody tr th:only-of-type {\n",
       "        vertical-align: middle;\n",
       "    }\n",
       "\n",
       "    .dataframe tbody tr th {\n",
       "        vertical-align: top;\n",
       "    }\n",
       "\n",
       "    .dataframe thead th {\n",
       "        text-align: right;\n",
       "    }\n",
       "</style>\n",
       "<table border=\"1\" class=\"dataframe\">\n",
       "  <thead>\n",
       "    <tr style=\"text-align: right;\">\n",
       "      <th></th>\n",
       "      <th>Age</th>\n",
       "      <th>Weight</th>\n",
       "      <th>Height</th>\n",
       "      <th>BMI</th>\n",
       "      <th>Waist</th>\n",
       "      <th>SBP</th>\n",
       "      <th>DBP</th>\n",
       "      <th>HDL</th>\n",
       "      <th>LDL</th>\n",
       "      <th>Total.Chol</th>\n",
       "    </tr>\n",
       "  </thead>\n",
       "  <tbody>\n",
       "    <tr>\n",
       "      <th>0</th>\n",
       "      <td>4.174387</td>\n",
       "      <td>4.025352</td>\n",
       "      <td>5.088213</td>\n",
       "      <td>3.059176</td>\n",
       "      <td>4.426044</td>\n",
       "      <td>4.905275</td>\n",
       "      <td>4.262680</td>\n",
       "      <td>3.871201</td>\n",
       "      <td>5.517453</td>\n",
       "      <td>5.693732</td>\n",
       "    </tr>\n",
       "    <tr>\n",
       "      <th>1</th>\n",
       "      <td>4.189655</td>\n",
       "      <td>4.429626</td>\n",
       "      <td>5.090678</td>\n",
       "      <td>3.458522</td>\n",
       "      <td>4.729156</td>\n",
       "      <td>4.744932</td>\n",
       "      <td>4.043051</td>\n",
       "      <td>3.784190</td>\n",
       "      <td>5.351858</td>\n",
       "      <td>5.541264</td>\n",
       "    </tr>\n",
       "    <tr>\n",
       "      <th>2</th>\n",
       "      <td>3.988984</td>\n",
       "      <td>4.239887</td>\n",
       "      <td>5.078294</td>\n",
       "      <td>3.293612</td>\n",
       "      <td>4.355426</td>\n",
       "      <td>4.700480</td>\n",
       "      <td>4.043051</td>\n",
       "      <td>4.304065</td>\n",
       "      <td>5.049856</td>\n",
       "      <td>5.438079</td>\n",
       "    </tr>\n",
       "    <tr>\n",
       "      <th>3</th>\n",
       "      <td>3.258097</td>\n",
       "      <td>4.781641</td>\n",
       "      <td>5.263726</td>\n",
       "      <td>3.464485</td>\n",
       "      <td>4.769837</td>\n",
       "      <td>4.859812</td>\n",
       "      <td>4.248495</td>\n",
       "      <td>3.761200</td>\n",
       "      <td>5.068904</td>\n",
       "      <td>5.308268</td>\n",
       "    </tr>\n",
       "    <tr>\n",
       "      <th>4</th>\n",
       "      <td>4.189655</td>\n",
       "      <td>4.443827</td>\n",
       "      <td>5.148076</td>\n",
       "      <td>3.357942</td>\n",
       "      <td>4.597138</td>\n",
       "      <td>4.919981</td>\n",
       "      <td>4.521789</td>\n",
       "      <td>3.713572</td>\n",
       "      <td>4.962845</td>\n",
       "      <td>5.214936</td>\n",
       "    </tr>\n",
       "  </tbody>\n",
       "</table>\n",
       "</div>"
      ],
      "text/plain": [
       "        Age    Weight    Height       BMI     Waist       SBP       DBP  \\\n",
       "0  4.174387  4.025352  5.088213  3.059176  4.426044  4.905275  4.262680   \n",
       "1  4.189655  4.429626  5.090678  3.458522  4.729156  4.744932  4.043051   \n",
       "2  3.988984  4.239887  5.078294  3.293612  4.355426  4.700480  4.043051   \n",
       "3  3.258097  4.781641  5.263726  3.464485  4.769837  4.859812  4.248495   \n",
       "4  4.189655  4.443827  5.148076  3.357942  4.597138  4.919981  4.521789   \n",
       "\n",
       "        HDL       LDL  Total.Chol  \n",
       "0  3.871201  5.517453    5.693732  \n",
       "1  3.784190  5.351858    5.541264  \n",
       "2  4.304065  5.049856    5.438079  \n",
       "3  3.761200  5.068904    5.308268  \n",
       "4  3.713572  4.962845    5.214936  "
      ]
     },
     "execution_count": 14,
     "metadata": {},
     "output_type": "execute_result"
    }
   ],
   "source": [
    "# take a look to confirm they are loged\n",
    "df_log[conti_col].head()"
   ]
  },
  {
   "cell_type": "code",
   "execution_count": 255,
   "metadata": {},
   "outputs": [
    {
     "data": {
      "text/plain": [
       "Age           0.161864\n",
       "Weight        0.054611\n",
       "Height        0.003567\n",
       "BMI           0.042287\n",
       "Waist         0.024150\n",
       "SBP           0.023458\n",
       "DBP           0.035502\n",
       "HDL           0.086697\n",
       "LDL           0.079759\n",
       "Total.Chol    0.042197\n",
       "dtype: float64"
      ]
     },
     "execution_count": 255,
     "metadata": {},
     "output_type": "execute_result"
    }
   ],
   "source": [
    "# look at their variance, maybe we can standardize them, so that they will have the same variance\n",
    "df_log[conti_col].var()"
   ]
  },
  {
   "cell_type": "code",
   "execution_count": 15,
   "metadata": {},
   "outputs": [],
   "source": [
    "# first split data into training and test, since we cannot standardize the whole data at the same time \n",
    "y=df_log.CKD\n",
    "X=df_log.drop('CKD',axis=1)\n",
    "\n",
    "from sklearn.model_selection import train_test_split\n",
    "X_train, X_test, y_train, y_test = train_test_split(\n",
    "    X, y, stratify=y,test_size=0.2, random_state=42)   #'stratify=y' means stratified sampling\n",
    "                                                       # random_state ~ fix the training and test data"
   ]
  },
  {
   "cell_type": "code",
   "execution_count": 16,
   "metadata": {},
   "outputs": [],
   "source": [
    "# standardize continous features\n",
    "X_train_std=X_train.copy()\n",
    "X_test_std=X_test.copy()\n",
    "\n",
    "from sklearn.preprocessing import StandardScaler\n",
    "scaler=StandardScaler().fit(X_train[conti_col]) #don't cheat, fit on X_train then applied the same transformation on X_test\n",
    "X_train_std[conti_col]=scaler.transform(X_train[conti_col]) #transform into dataframe\n",
    "X_test_std[conti_col]=scaler.transform(X_test[conti_col])"
   ]
  },
  {
   "cell_type": "code",
   "execution_count": 278,
   "metadata": {},
   "outputs": [
    {
     "data": {
      "text/plain": [
       "SBP                  1.000151\n",
       "Waist                1.000151\n",
       "LDL                  1.000151\n",
       "Total.Chol           1.000151\n",
       "HDL                  1.000151\n",
       "Height               1.000151\n",
       "BMI                  1.000151\n",
       "Age                  1.000151\n",
       "Weight               1.000151\n",
       "DBP                  1.000151\n",
       "Activity             0.810983\n",
       "Female               0.499628\n",
       "Educ                 0.499335\n",
       "Racegrpwhite         0.498780\n",
       "Income               0.496972\n",
       "CareSourceDrHMO      0.490627\n",
       "Hypertension         0.484776\n",
       "Fam.CVD              0.480954\n",
       "Unmarried            0.475611\n",
       "Obese                0.464584\n",
       "Fam.Diabetes         0.462875\n",
       "Smoker               0.460100\n",
       "Racegrphispa         0.443530\n",
       "Fam.Hypertension     0.439511\n",
       "CareSourceclinic     0.405924\n",
       "Insured              0.390794\n",
       "Racegrpblack         0.371830\n",
       "CareSourcenoplace    0.355578\n",
       "Diabetes             0.307633\n",
       "Dyslipidemia         0.305294\n",
       "CVD                  0.229226\n",
       "PoorVision           0.222660\n",
       "CareSourceother      0.211363\n",
       "PVD                  0.186252\n",
       "Racegrpother         0.168735\n",
       "Stroke               0.155503\n",
       "CHF                  0.146926\n",
       "Anemia               0.131267\n",
       "dtype: float64"
      ]
     },
     "execution_count": 278,
     "metadata": {},
     "output_type": "execute_result"
    }
   ],
   "source": [
    "# every continious features have the same std in the training data set\n",
    "X_train_std.std().sort_values(ascending=False)"
   ]
  },
  {
   "cell_type": "code",
   "execution_count": 308,
   "metadata": {},
   "outputs": [
    {
     "data": {
      "text/plain": [
       "Age                  1.046209\n",
       "HDL                  1.017569\n",
       "SBP                  0.997548\n",
       "BMI                  0.981009\n",
       "Weight               0.979769\n",
       "Total.Chol           0.971326\n",
       "DBP                  0.969712\n",
       "Waist                0.964973\n",
       "LDL                  0.936125\n",
       "Height               0.933164\n",
       "Activity             0.602859\n",
       "Female               0.250296\n",
       "Racegrpwhite         0.250016\n",
       "Educ                 0.249461\n",
       "Income               0.248194\n",
       "CareSourceDrHMO      0.243349\n",
       "Hypertension         0.236562\n",
       "Unmarried            0.229968\n",
       "Fam.CVD              0.220439\n",
       "Fam.Diabetes         0.219173\n",
       "Smoker               0.214306\n",
       "Racegrphispa         0.206088\n",
       "Obese                0.206088\n",
       "Fam.Hypertension     0.171699\n",
       "CareSourceclinic     0.166884\n",
       "Insured              0.158297\n",
       "Racegrpblack         0.134990\n",
       "CareSourcenoplace    0.133342\n",
       "Dyslipidemia         0.092230\n",
       "Diabetes             0.088363\n",
       "PoorVision           0.055744\n",
       "CVD                  0.054676\n",
       "CareSourceother      0.043840\n",
       "Racegrpother         0.031584\n",
       "PVD                  0.025895\n",
       "Anemia               0.023600\n",
       "Stroke               0.022447\n",
       "CHF                  0.022447\n",
       "dtype: float64"
      ]
     },
     "execution_count": 308,
     "metadata": {},
     "output_type": "execute_result"
    }
   ],
   "source": [
    "# in test data, they have different variance since we use the std and mean of training data to standardize test\n",
    "X_test_std.var().sort_values(ascending=False)"
   ]
  },
  {
   "cell_type": "code",
   "execution_count": 17,
   "metadata": {},
   "outputs": [],
   "source": [
    "# Try to Normalize continous features and 'Activity' into range (1,0), \n",
    "# so that all the features are in the same range, \n",
    "# and the effect of variance difference will be be very minor\n",
    "X_train_norm=X_train.copy()\n",
    "X_test_norm=X_test.copy()\n",
    "\n",
    "from sklearn.preprocessing import MinMaxScaler\n",
    "scaler=MinMaxScaler().fit(X_train[list(conti_col)+['Activity']]) \n",
    "X_train_norm[list(conti_col)+['Activity']]=scaler.transform(X_train[list(conti_col)+['Activity']]) \n",
    "X_test_norm[list(conti_col)+['Activity']]=scaler.transform(X_test[list(conti_col)+['Activity']])"
   ]
  },
  {
   "cell_type": "code",
   "execution_count": 18,
   "metadata": {},
   "outputs": [
    {
     "data": {
      "text/plain": [
       "Female               0.249628\n",
       "Educ                 0.249335\n",
       "Racegrpwhite         0.248781\n",
       "Income               0.246981\n",
       "CareSourceDrHMO      0.240715\n",
       "Hypertension         0.235008\n",
       "Fam.CVD              0.231317\n",
       "Unmarried            0.226206\n",
       "Obese                0.215838\n",
       "Fam.Diabetes         0.214254\n",
       "Smoker               0.211692\n",
       "Racegrphispa         0.196719\n",
       "Fam.Hypertension     0.193170\n",
       "CareSourceclinic     0.164775\n",
       "Insured              0.152720\n",
       "Racegrpblack         0.138258\n",
       "CareSourcenoplace    0.126435\n",
       "Diabetes             0.094638\n",
       "Dyslipidemia         0.093205\n",
       "Age                  0.076623\n",
       "Activity             0.073077\n",
       "CVD                  0.052545\n",
       "PoorVision           0.049577\n",
       "CareSourceother      0.044674\n",
       "PVD                  0.034690\n",
       "Racegrpother         0.028472\n",
       "Stroke               0.024181\n",
       "CHF                  0.021587\n",
       "Waist                0.020668\n",
       "Height               0.019858\n",
       "SBP                  0.019614\n",
       "Weight               0.018464\n",
       "BMI                  0.018181\n",
       "Anemia               0.017231\n",
       "HDL                  0.014155\n",
       "LDL                  0.012044\n",
       "Total.Chol           0.010353\n",
       "DBP                  0.005825\n",
       "dtype: float64"
      ]
     },
     "execution_count": 18,
     "metadata": {},
     "output_type": "execute_result"
    }
   ],
   "source": [
    "# in the training dataset, the variance differences among different features are very minor\n",
    "X_train_norm.var().sort_values(ascending=False)"
   ]
  },
  {
   "cell_type": "code",
   "execution_count": 19,
   "metadata": {},
   "outputs": [
    {
     "data": {
      "text/plain": [
       "Female               0.250296\n",
       "Racegrpwhite         0.250016\n",
       "Educ                 0.249461\n",
       "Income               0.248194\n",
       "CareSourceDrHMO      0.243349\n",
       "Hypertension         0.236562\n",
       "Unmarried            0.229968\n",
       "Fam.CVD              0.220439\n",
       "Fam.Diabetes         0.219173\n",
       "Smoker               0.214306\n",
       "Racegrphispa         0.206088\n",
       "Obese                0.206088\n",
       "Fam.Hypertension     0.171699\n",
       "CareSourceclinic     0.166884\n",
       "Insured              0.158297\n",
       "Racegrpblack         0.134990\n",
       "CareSourcenoplace    0.133342\n",
       "Dyslipidemia         0.092230\n",
       "Diabetes             0.088363\n",
       "Age                  0.080139\n",
       "Activity             0.066984\n",
       "PoorVision           0.055744\n",
       "CVD                  0.054676\n",
       "CareSourceother      0.043840\n",
       "Racegrpother         0.031584\n",
       "PVD                  0.025895\n",
       "Anemia               0.023600\n",
       "Stroke               0.022447\n",
       "CHF                  0.022447\n",
       "Waist                0.019938\n",
       "SBP                  0.019560\n",
       "Height               0.018525\n",
       "Weight               0.018085\n",
       "BMI                  0.017830\n",
       "HDL                  0.014399\n",
       "LDL                  0.011272\n",
       "Total.Chol           0.010053\n",
       "DBP                  0.005647\n",
       "dtype: float64"
      ]
     },
     "execution_count": 19,
     "metadata": {},
     "output_type": "execute_result"
    }
   ],
   "source": [
    "# the variance of test data are a little different from of training \n",
    "# since we fit test data by the Max, Min, Mean of traing data\n",
    "X_test_norm.var().sort_values(ascending=False)"
   ]
  },
  {
   "cell_type": "markdown",
   "metadata": {},
   "source": [
    "# Feature Selection Based on Different Preprocessing Methods"
   ]
  },
  {
   "cell_type": "code",
   "execution_count": null,
   "metadata": {},
   "outputs": [],
   "source": [
    "######## features for modeling. \n",
    "####### We can also use 'conditional prob1'/'conditional prob2' to feilter the features, be innovative\n",
    "# 1.fea_prob_col\n",
    "# 2.comb_prob_col\n",
    "# 3.common_col\n",
    "\n",
    "########## data for modeling\n",
    "# LOG:  X_train        X_test\n",
    "# STD:  X_train_std   X_test_std\n",
    "# NORM: X_train_norm  X_test_norm"
   ]
  },
  {
   "cell_type": "code",
   "execution_count": 321,
   "metadata": {},
   "outputs": [
    {
     "data": {
      "text/plain": [
       "3406    0\n",
       "1750    0\n",
       "2305    0\n",
       "523     0\n",
       "3961    0\n",
       "       ..\n",
       "2388    0\n",
       "1947    0\n",
       "1765    0\n",
       "4110    0\n",
       "1167    0\n",
       "Name: CKD, Length: 3308, dtype: int64"
      ]
     },
     "execution_count": 321,
     "metadata": {},
     "output_type": "execute_result"
    }
   ],
   "source": [
    "### we always use y_train for training \n",
    "y_train"
   ]
  },
  {
   "cell_type": "code",
   "execution_count": 316,
   "metadata": {},
   "outputs": [
    {
     "data": {
      "text/plain": [
       "2173    0\n",
       "863     0\n",
       "3860    0\n",
       "167     0\n",
       "3138    0\n",
       "       ..\n",
       "2724    0\n",
       "2478    0\n",
       "2219    0\n",
       "384     0\n",
       "2554    1\n",
       "Name: CKD, Length: 828, dtype: int64"
      ]
     },
     "execution_count": 316,
     "metadata": {},
     "output_type": "execute_result"
    }
   ],
   "source": [
    "# we always use y_test for testing\n",
    "y_test"
   ]
  },
  {
   "cell_type": "code",
   "execution_count": 391,
   "metadata": {},
   "outputs": [],
   "source": [
    "fea_prob_col_ori=['Stroke','PVD','CVD','CHF','Diabetes','PoorVision','Hypertension',\n",
    " 'Age','Anemia','SBP','Racegrpwhite','Waist','Smoker','Unmarried','CareSourceDrHMO']"
   ]
  },
  {
   "cell_type": "code",
   "execution_count": 393,
   "metadata": {},
   "outputs": [],
   "source": [
    "comb_prob_col_ori=['Age','Hypertension','SBP','Insured','Racegrpwhite','CVD',\n",
    "               'Waist','CareSourceDrHMO','Diabetes','LDL','PVD','BMI','Female','Unmarried','Weight']"
   ]
  },
  {
   "cell_type": "code",
   "execution_count": 427,
   "metadata": {},
   "outputs": [],
   "source": [
    "common_col_ori=['Hypertension','CareSourceDrHMO','SBP','Age','Waist','Unmarried',\n",
    " 'Racegrpwhite','PVD','Diabetes','CVD']"
   ]
  },
  {
   "cell_type": "markdown",
   "metadata": {},
   "source": [
    "# Log"
   ]
  },
  {
   "cell_type": "code",
   "execution_count": 407,
   "metadata": {},
   "outputs": [
    {
     "name": "stdout",
     "output_type": "stream",
     "text": [
      "Optimization terminated successfully.\n",
      "         Current function value: 0.168302\n",
      "         Iterations 9\n"
     ]
    }
   ],
   "source": [
    "# model (log & fea_prob_col_ori)\n",
    "import statsmodels.api as sm\n",
    "x = sm.add_constant(X_train[fea_prob_col_ori]) #fea_prob_col_ori\n",
    "model = sm.Logit(y_train, x)\n",
    "result = model.fit()\n"
   ]
  },
  {
   "cell_type": "code",
   "execution_count": 408,
   "metadata": {},
   "outputs": [
    {
     "name": "stdout",
     "output_type": "stream",
     "text": [
      "                           Logit Regression Results                           \n",
      "==============================================================================\n",
      "Dep. Variable:                    CKD   No. Observations:                 3308\n",
      "Model:                          Logit   Df Residuals:                     3292\n",
      "Method:                           MLE   Df Model:                           15\n",
      "Date:                Mon, 08 Jun 2020   Pseudo R-squ.:                  0.2954\n",
      "Time:                        14:20:02   Log-Likelihood:                -556.74\n",
      "converged:                       True   LL-Null:                       -790.21\n",
      "Covariance Type:            nonrobust   LLR p-value:                 5.512e-90\n",
      "===================================================================================\n",
      "                      coef    std err          z      P>|z|      [0.025      0.975]\n",
      "-----------------------------------------------------------------------------------\n",
      "const             -21.2620      4.176     -5.092      0.000     -29.446     -13.078\n",
      "Stroke              0.3117      0.381      0.817      0.414      -0.436       1.059\n",
      "PVD                 0.7167      0.237      3.026      0.002       0.252       1.181\n",
      "CVD                 0.4884      0.287      1.703      0.089      -0.074       1.051\n",
      "CHF                 0.3310      0.323      1.025      0.305      -0.302       0.964\n",
      "Diabetes            0.5012      0.195      2.577      0.010       0.120       0.882\n",
      "PoorVision          0.1321      0.253      0.523      0.601      -0.363       0.628\n",
      "Hypertension        0.7184      0.212      3.394      0.001       0.304       1.133\n",
      "Age                 4.8459      0.464     10.449      0.000       3.937       5.755\n",
      "Anemia              1.2734      0.581      2.191      0.028       0.134       2.413\n",
      "SBP                -1.0251      0.583     -1.758      0.079      -2.168       0.118\n",
      "Racegrpwhite        0.4987      0.181      2.756      0.006       0.144       0.853\n",
      "Waist               0.5832      0.588      0.992      0.321      -0.569       1.735\n",
      "Smoker             -0.0608      0.165     -0.369      0.712      -0.383       0.262\n",
      "Unmarried           0.3032      0.168      1.810      0.070      -0.025       0.632\n",
      "CareSourceDrHMO     0.1248      0.177      0.703      0.482      -0.223       0.473\n",
      "===================================================================================\n"
     ]
    }
   ],
   "source": [
    "# look at the summary of model \n",
    "print(result.summary())"
   ]
  },
  {
   "cell_type": "code",
   "execution_count": 421,
   "metadata": {},
   "outputs": [
    {
     "data": {
      "text/plain": [
       "const           3.542895e-07\n",
       "PVD             2.481117e-03\n",
       "Diabetes        9.974692e-03\n",
       "Hypertension    6.882837e-04\n",
       "Age             1.481190e-25\n",
       "Anemia          2.846115e-02\n",
       "Racegrpwhite    5.855936e-03\n",
       "dtype: float64"
      ]
     },
     "execution_count": 421,
     "metadata": {},
     "output_type": "execute_result"
    }
   ],
   "source": [
    "result.pvalues[result.pvalues<0.05]"
   ]
  },
  {
   "cell_type": "code",
   "execution_count": 20,
   "metadata": {},
   "outputs": [],
   "source": [
    "# model features  6 \n",
    "fea_model=['PVD','Diabetes','Hypertension','Age','Anemia','Racegrpwhite']"
   ]
  },
  {
   "cell_type": "code",
   "execution_count": 429,
   "metadata": {},
   "outputs": [
    {
     "name": "stdout",
     "output_type": "stream",
     "text": [
      "Optimization terminated successfully.\n",
      "         Current function value: 0.168135\n",
      "         Iterations 9\n",
      "                           Logit Regression Results                           \n",
      "==============================================================================\n",
      "Dep. Variable:                    CKD   No. Observations:                 3308\n",
      "Model:                          Logit   Df Residuals:                     3292\n",
      "Method:                           MLE   Df Model:                           15\n",
      "Date:                Mon, 08 Jun 2020   Pseudo R-squ.:                  0.2961\n",
      "Time:                        14:42:53   Log-Likelihood:                -556.19\n",
      "converged:                       True   LL-Null:                       -790.21\n",
      "Covariance Type:            nonrobust   LLR p-value:                 3.222e-90\n",
      "===================================================================================\n",
      "                      coef    std err          z      P>|z|      [0.025      0.975]\n",
      "-----------------------------------------------------------------------------------\n",
      "const             -23.8443      4.754     -5.016      0.000     -33.162     -14.527\n",
      "Age                 5.1727      0.526      9.838      0.000       4.142       6.203\n",
      "Hypertension        0.7253      0.213      3.398      0.001       0.307       1.144\n",
      "SBP                -1.0325      0.589     -1.753      0.080      -2.187       0.122\n",
      "Insured             0.2857      0.394      0.724      0.469      -0.487       1.059\n",
      "Racegrpwhite        0.3907      0.182      2.142      0.032       0.033       0.748\n",
      "CVD                 0.7494      0.210      3.572      0.000       0.338       1.161\n",
      "Waist              -0.6273      1.488     -0.421      0.673      -3.544       2.290\n",
      "CareSourceDrHMO     0.1056      0.179      0.590      0.555      -0.245       0.456\n",
      "Diabetes            0.5332      0.195      2.738      0.006       0.152       0.915\n",
      "LDL                 0.3238      0.308      1.051      0.293      -0.280       0.928\n",
      "PVD                 0.7432      0.237      3.142      0.002       0.280       1.207\n",
      "BMI                -1.6087      1.236     -1.302      0.193      -4.031       0.813\n",
      "Female              0.4009      0.245      1.637      0.102      -0.079       0.881\n",
      "Unmarried           0.3345      0.175      1.913      0.056      -0.008       0.677\n",
      "Weight              2.3333      1.051      2.219      0.026       0.273       4.394\n",
      "===================================================================================\n"
     ]
    }
   ],
   "source": [
    "# model 2 (log & comb_prob_col_ori)\n",
    "x = sm.add_constant(X_train[comb_prob_col_ori]) #comb_prob_col_ori\n",
    "model2 = sm.Logit(y_train, x)\n",
    "result2 = model2.fit()\n",
    "print(result2.summary())"
   ]
  },
  {
   "cell_type": "code",
   "execution_count": 430,
   "metadata": {},
   "outputs": [
    {
     "data": {
      "text/plain": [
       "const           5.286799e-07\n",
       "Age             7.730641e-23\n",
       "Hypertension    6.782026e-04\n",
       "Racegrpwhite    3.222904e-02\n",
       "CVD             3.545582e-04\n",
       "Diabetes        6.178174e-03\n",
       "PVD             1.676992e-03\n",
       "Weight          2.645971e-02\n",
       "dtype: float64"
      ]
     },
     "execution_count": 430,
     "metadata": {},
     "output_type": "execute_result"
    }
   ],
   "source": [
    "result2.pvalues[result2.pvalues<0.05]"
   ]
  },
  {
   "cell_type": "code",
   "execution_count": 21,
   "metadata": {},
   "outputs": [],
   "source": [
    "# model 2 features 7\n",
    "fea_model2=['PVD','Diabetes','Hypertension','Age','CVD','Racegrpwhite','Weight']"
   ]
  },
  {
   "cell_type": "code",
   "execution_count": 432,
   "metadata": {},
   "outputs": [
    {
     "name": "stdout",
     "output_type": "stream",
     "text": [
      "Optimization terminated successfully.\n",
      "         Current function value: 0.169198\n",
      "         Iterations 9\n",
      "                           Logit Regression Results                           \n",
      "==============================================================================\n",
      "Dep. Variable:                    CKD   No. Observations:                 3308\n",
      "Model:                          Logit   Df Residuals:                     3297\n",
      "Method:                           MLE   Df Model:                           10\n",
      "Date:                Mon, 08 Jun 2020   Pseudo R-squ.:                  0.2917\n",
      "Time:                        14:44:07   Log-Likelihood:                -559.71\n",
      "converged:                       True   LL-Null:                       -790.21\n",
      "Covariance Type:            nonrobust   LLR p-value:                 9.377e-93\n",
      "===================================================================================\n",
      "                      coef    std err          z      P>|z|      [0.025      0.975]\n",
      "-----------------------------------------------------------------------------------\n",
      "const             -21.0428      4.151     -5.069      0.000     -29.179     -12.907\n",
      "Hypertension        0.7246      0.211      3.439      0.001       0.312       1.138\n",
      "CareSourceDrHMO     0.1276      0.177      0.722      0.470      -0.219       0.474\n",
      "SBP                -1.0155      0.578     -1.758      0.079      -2.148       0.117\n",
      "Age                 4.8437      0.457     10.592      0.000       3.947       5.740\n",
      "Waist               0.5312      0.583      0.911      0.362      -0.611       1.674\n",
      "Unmarried           0.3435      0.165      2.086      0.037       0.021       0.666\n",
      "Racegrpwhite        0.4626      0.179      2.588      0.010       0.112       0.813\n",
      "PVD                 0.7217      0.235      3.066      0.002       0.260       1.183\n",
      "Diabetes            0.5110      0.193      2.644      0.008       0.132       0.890\n",
      "CVD                 0.7030      0.207      3.396      0.001       0.297       1.109\n",
      "===================================================================================\n"
     ]
    }
   ],
   "source": [
    "# model 3 (log & #common_col_ori)\n",
    "x = sm.add_constant(X_train[common_col_ori]) #common_col_ori\n",
    "model3 = sm.Logit(y_train, x)\n",
    "result3 = model3.fit()\n",
    "print(result3.summary())"
   ]
  },
  {
   "cell_type": "code",
   "execution_count": 434,
   "metadata": {},
   "outputs": [
    {
     "data": {
      "text/plain": [
       "const           3.994857e-07\n",
       "Hypertension    5.841875e-04\n",
       "Age             3.260760e-26\n",
       "Unmarried       3.693973e-02\n",
       "Racegrpwhite    9.664309e-03\n",
       "PVD             2.169668e-03\n",
       "Diabetes        8.189741e-03\n",
       "CVD             6.842679e-04\n",
       "dtype: float64"
      ]
     },
     "execution_count": 434,
     "metadata": {},
     "output_type": "execute_result"
    }
   ],
   "source": [
    "result3.pvalues[result3.pvalues<0.05]"
   ]
  },
  {
   "cell_type": "code",
   "execution_count": 22,
   "metadata": {},
   "outputs": [],
   "source": [
    "# model3 features 7 \n",
    "fea_model3=['PVD','Diabetes','Hypertension','Age','CVD','Racegrpwhite','Unmarried']"
   ]
  },
  {
   "cell_type": "markdown",
   "metadata": {},
   "source": [
    "# log + std "
   ]
  },
  {
   "cell_type": "code",
   "execution_count": 435,
   "metadata": {},
   "outputs": [
    {
     "name": "stdout",
     "output_type": "stream",
     "text": [
      "Optimization terminated successfully.\n",
      "         Current function value: 0.168302\n",
      "         Iterations 9\n",
      "                           Logit Regression Results                           \n",
      "==============================================================================\n",
      "Dep. Variable:                    CKD   No. Observations:                 3308\n",
      "Model:                          Logit   Df Residuals:                     3292\n",
      "Method:                           MLE   Df Model:                           15\n",
      "Date:                Mon, 08 Jun 2020   Pseudo R-squ.:                  0.2954\n",
      "Time:                        14:49:08   Log-Likelihood:                -556.74\n",
      "converged:                       True   LL-Null:                       -790.21\n",
      "Covariance Type:            nonrobust   LLR p-value:                 5.512e-90\n",
      "===================================================================================\n",
      "                      coef    std err          z      P>|z|      [0.025      0.975]\n",
      "-----------------------------------------------------------------------------------\n",
      "const              -5.1492      0.282    -18.264      0.000      -5.702      -4.597\n",
      "Stroke              0.3117      0.381      0.817      0.414      -0.436       1.059\n",
      "PVD                 0.7167      0.237      3.026      0.002       0.252       1.181\n",
      "CVD                 0.4884      0.287      1.703      0.089      -0.074       1.051\n",
      "CHF                 0.3310      0.323      1.025      0.305      -0.302       0.964\n",
      "Diabetes            0.5012      0.195      2.577      0.010       0.120       0.882\n",
      "PoorVision          0.1321      0.253      0.523      0.601      -0.363       0.628\n",
      "Hypertension        0.7184      0.212      3.394      0.001       0.304       1.133\n",
      "Age                 1.9406      0.186     10.449      0.000       1.577       2.305\n",
      "Anemia              1.2734      0.581      2.191      0.028       0.134       2.413\n",
      "SBP                -0.1570      0.089     -1.758      0.079      -0.332       0.018\n",
      "Racegrpwhite        0.4987      0.181      2.756      0.006       0.144       0.853\n",
      "Waist               0.0909      0.092      0.992      0.321      -0.089       0.271\n",
      "Smoker             -0.0608      0.165     -0.369      0.712      -0.383       0.262\n",
      "Unmarried           0.3032      0.168      1.810      0.070      -0.025       0.632\n",
      "CareSourceDrHMO     0.1248      0.177      0.703      0.482      -0.223       0.473\n",
      "===================================================================================\n"
     ]
    }
   ],
   "source": [
    "# model4 (log+std & fea_prob_col_ori)\n",
    "x = sm.add_constant(X_train_std[fea_prob_col_ori]) #fea_prob_col_ori \n",
    "model4 = sm.Logit(y_train, x)\n",
    "result4 = model4.fit()\n",
    "print(result4.summary())"
   ]
  },
  {
   "cell_type": "code",
   "execution_count": 436,
   "metadata": {},
   "outputs": [
    {
     "data": {
      "text/plain": [
       "const           1.614607e-74\n",
       "PVD             2.481117e-03\n",
       "Diabetes        9.974692e-03\n",
       "Hypertension    6.882837e-04\n",
       "Age             1.481190e-25\n",
       "Anemia          2.846115e-02\n",
       "Racegrpwhite    5.855936e-03\n",
       "dtype: float64"
      ]
     },
     "execution_count": 436,
     "metadata": {},
     "output_type": "execute_result"
    }
   ],
   "source": [
    "result4.pvalues[result4.pvalues<0.05]"
   ]
  },
  {
   "cell_type": "code",
   "execution_count": 23,
   "metadata": {},
   "outputs": [],
   "source": [
    "fea_model4=['PVD','Diabetes','Hypertension','Age','Anemia','Racegrpwhite']"
   ]
  },
  {
   "cell_type": "code",
   "execution_count": 439,
   "metadata": {},
   "outputs": [
    {
     "name": "stdout",
     "output_type": "stream",
     "text": [
      "Optimization terminated successfully.\n",
      "         Current function value: 0.168135\n",
      "         Iterations 9\n",
      "                           Logit Regression Results                           \n",
      "==============================================================================\n",
      "Dep. Variable:                    CKD   No. Observations:                 3308\n",
      "Model:                          Logit   Df Residuals:                     3292\n",
      "Method:                           MLE   Df Model:                           15\n",
      "Date:                Mon, 08 Jun 2020   Pseudo R-squ.:                  0.2961\n",
      "Time:                        14:55:40   Log-Likelihood:                -556.19\n",
      "converged:                       True   LL-Null:                       -790.21\n",
      "Covariance Type:            nonrobust   LLR p-value:                 3.222e-90\n",
      "===================================================================================\n",
      "                      coef    std err          z      P>|z|      [0.025      0.975]\n",
      "-----------------------------------------------------------------------------------\n",
      "const              -5.6233      0.432    -13.011      0.000      -6.470      -4.776\n",
      "Age                 2.0715      0.211      9.838      0.000       1.659       2.484\n",
      "Hypertension        0.7253      0.213      3.398      0.001       0.307       1.144\n",
      "SBP                -0.1582      0.090     -1.753      0.080      -0.335       0.019\n",
      "Insured             0.2857      0.394      0.724      0.469      -0.487       1.059\n",
      "Racegrpwhite        0.3907      0.182      2.142      0.032       0.033       0.748\n",
      "CVD                 0.7494      0.210      3.572      0.000       0.338       1.161\n",
      "Waist              -0.0978      0.232     -0.421      0.673      -0.553       0.357\n",
      "CareSourceDrHMO     0.1056      0.179      0.590      0.555      -0.245       0.456\n",
      "Diabetes            0.5332      0.195      2.738      0.006       0.152       0.915\n",
      "LDL                 0.0920      0.088      1.051      0.293      -0.080       0.264\n",
      "PVD                 0.7432      0.237      3.142      0.002       0.280       1.207\n",
      "BMI                -0.3313      0.255     -1.302      0.193      -0.830       0.168\n",
      "Female              0.4009      0.245      1.637      0.102      -0.079       0.881\n",
      "Unmarried           0.3345      0.175      1.913      0.056      -0.008       0.677\n",
      "Weight              0.5463      0.246      2.219      0.026       0.064       1.029\n",
      "===================================================================================\n"
     ]
    }
   ],
   "source": [
    "# model5 (fea_prob_col_ori)\n",
    "x = sm.add_constant(X_train_std[comb_prob_col_ori]) #comb_prob_col_ori \n",
    "model5 = sm.Logit(y_train, x)\n",
    "result5 = model5.fit()\n",
    "print(result5.summary())"
   ]
  },
  {
   "cell_type": "code",
   "execution_count": 440,
   "metadata": {},
   "outputs": [
    {
     "data": {
      "text/plain": [
       "const           1.061086e-38\n",
       "Age             7.730641e-23\n",
       "Hypertension    6.782026e-04\n",
       "Racegrpwhite    3.222904e-02\n",
       "CVD             3.545582e-04\n",
       "Diabetes        6.178174e-03\n",
       "PVD             1.676992e-03\n",
       "Weight          2.645971e-02\n",
       "dtype: float64"
      ]
     },
     "execution_count": 440,
     "metadata": {},
     "output_type": "execute_result"
    }
   ],
   "source": [
    "result5.pvalues[result5.pvalues<0.05]"
   ]
  },
  {
   "cell_type": "code",
   "execution_count": 24,
   "metadata": {},
   "outputs": [],
   "source": [
    "fea_model5=['CVD','PVD','Diabetes','Hypertension','Age','Racegrpwhite','Weight']"
   ]
  },
  {
   "cell_type": "code",
   "execution_count": 443,
   "metadata": {},
   "outputs": [
    {
     "name": "stdout",
     "output_type": "stream",
     "text": [
      "Optimization terminated successfully.\n",
      "         Current function value: 0.169198\n",
      "         Iterations 9\n",
      "                           Logit Regression Results                           \n",
      "==============================================================================\n",
      "Dep. Variable:                    CKD   No. Observations:                 3308\n",
      "Model:                          Logit   Df Residuals:                     3297\n",
      "Method:                           MLE   Df Model:                           10\n",
      "Date:                Mon, 08 Jun 2020   Pseudo R-squ.:                  0.2917\n",
      "Time:                        15:29:57   Log-Likelihood:                -559.71\n",
      "converged:                       True   LL-Null:                       -790.21\n",
      "Covariance Type:            nonrobust   LLR p-value:                 9.377e-93\n",
      "===================================================================================\n",
      "                      coef    std err          z      P>|z|      [0.025      0.975]\n",
      "-----------------------------------------------------------------------------------\n",
      "const              -5.1291      0.276    -18.611      0.000      -5.669      -4.589\n",
      "Hypertension        0.7246      0.211      3.439      0.001       0.312       1.138\n",
      "CareSourceDrHMO     0.1276      0.177      0.722      0.470      -0.219       0.474\n",
      "SBP                -0.1556      0.089     -1.758      0.079      -0.329       0.018\n",
      "Age                 1.9397      0.183     10.592      0.000       1.581       2.299\n",
      "Waist               0.0828      0.091      0.911      0.362      -0.095       0.261\n",
      "Unmarried           0.3435      0.165      2.086      0.037       0.021       0.666\n",
      "Racegrpwhite        0.4626      0.179      2.588      0.010       0.112       0.813\n",
      "PVD                 0.7217      0.235      3.066      0.002       0.260       1.183\n",
      "Diabetes            0.5110      0.193      2.644      0.008       0.132       0.890\n",
      "CVD                 0.7030      0.207      3.396      0.001       0.297       1.109\n",
      "===================================================================================\n"
     ]
    }
   ],
   "source": [
    "# model5 (fea_prob_col_ori)\n",
    "x = sm.add_constant(X_train_std[common_col_ori]) #common_col_ori\n",
    "model6 = sm.Logit(y_train, x)\n",
    "result6 = model6.fit()\n",
    "print(result6.summary())"
   ]
  },
  {
   "cell_type": "code",
   "execution_count": 445,
   "metadata": {},
   "outputs": [
    {
     "data": {
      "text/plain": [
       "const           2.604986e-77\n",
       "Hypertension    5.841875e-04\n",
       "Age             3.260760e-26\n",
       "Unmarried       3.693973e-02\n",
       "Racegrpwhite    9.664309e-03\n",
       "PVD             2.169668e-03\n",
       "Diabetes        8.189741e-03\n",
       "CVD             6.842679e-04\n",
       "dtype: float64"
      ]
     },
     "execution_count": 445,
     "metadata": {},
     "output_type": "execute_result"
    }
   ],
   "source": [
    "result6.pvalues[result6.pvalues<0.05]"
   ]
  },
  {
   "cell_type": "code",
   "execution_count": 25,
   "metadata": {},
   "outputs": [],
   "source": [
    "fea_model6=['CVD','PVD','Diabetes','Hypertension','Age','Racegrpwhite','Unmarried']"
   ]
  },
  {
   "cell_type": "markdown",
   "metadata": {},
   "source": [
    "# log+norm"
   ]
  },
  {
   "cell_type": "code",
   "execution_count": 447,
   "metadata": {},
   "outputs": [
    {
     "name": "stdout",
     "output_type": "stream",
     "text": [
      "Optimization terminated successfully.\n",
      "         Current function value: 0.168302\n",
      "         Iterations 9\n",
      "                           Logit Regression Results                           \n",
      "==============================================================================\n",
      "Dep. Variable:                    CKD   No. Observations:                 3308\n",
      "Model:                          Logit   Df Residuals:                     3292\n",
      "Method:                           MLE   Df Model:                           15\n",
      "Date:                Mon, 08 Jun 2020   Pseudo R-squ.:                  0.2954\n",
      "Time:                        16:33:12   Log-Likelihood:                -556.74\n",
      "converged:                       True   LL-Null:                       -790.21\n",
      "Covariance Type:            nonrobust   LLR p-value:                 5.512e-90\n",
      "===================================================================================\n",
      "                      coef    std err          z      P>|z|      [0.025      0.975]\n",
      "-----------------------------------------------------------------------------------\n",
      "const              -8.7692      0.650    -13.481      0.000     -10.044      -7.494\n",
      "Stroke              0.3117      0.381      0.817      0.414      -0.436       1.059\n",
      "PVD                 0.7167      0.237      3.026      0.002       0.252       1.181\n",
      "CVD                 0.4884      0.287      1.703      0.089      -0.074       1.051\n",
      "CHF                 0.3310      0.323      1.025      0.305      -0.302       0.964\n",
      "Diabetes            0.5012      0.195      2.577      0.010       0.120       0.882\n",
      "PoorVision          0.1321      0.253      0.523      0.601      -0.363       0.628\n",
      "Hypertension        0.7184      0.212      3.394      0.001       0.304       1.133\n",
      "Age                 7.0117      0.671     10.449      0.000       5.696       8.327\n",
      "Anemia              1.2734      0.581      2.191      0.028       0.134       2.413\n",
      "SBP                -1.1215      0.638     -1.758      0.079      -2.372       0.129\n",
      "Racegrpwhite        0.4987      0.181      2.756      0.006       0.144       0.853\n",
      "Waist               0.6326      0.638      0.992      0.321      -0.617       1.883\n",
      "Smoker             -0.0608      0.165     -0.369      0.712      -0.383       0.262\n",
      "Unmarried           0.3032      0.168      1.810      0.070      -0.025       0.632\n",
      "CareSourceDrHMO     0.1248      0.177      0.703      0.482      -0.223       0.473\n",
      "===================================================================================\n"
     ]
    }
   ],
   "source": [
    "# model7 (fea_prob_col_ori)\n",
    "x = sm.add_constant(X_train_norm[fea_prob_col_ori]) #fea_prob_col_ori\n",
    "model7 = sm.Logit(y_train, x)\n",
    "result7 = model7.fit()\n",
    "print(result7.summary())"
   ]
  },
  {
   "cell_type": "code",
   "execution_count": 448,
   "metadata": {},
   "outputs": [
    {
     "data": {
      "text/plain": [
       "const           2.012734e-41\n",
       "PVD             2.481117e-03\n",
       "Diabetes        9.974692e-03\n",
       "Hypertension    6.882837e-04\n",
       "Age             1.481190e-25\n",
       "Anemia          2.846115e-02\n",
       "Racegrpwhite    5.855936e-03\n",
       "dtype: float64"
      ]
     },
     "execution_count": 448,
     "metadata": {},
     "output_type": "execute_result"
    }
   ],
   "source": [
    "result7.pvalues[result7.pvalues<0.05]"
   ]
  },
  {
   "cell_type": "code",
   "execution_count": 26,
   "metadata": {},
   "outputs": [],
   "source": [
    "fea_model7=['PVD','Diabetes','Hypertension','Age','Racegrpwhite','Anemia']"
   ]
  },
  {
   "cell_type": "code",
   "execution_count": 450,
   "metadata": {},
   "outputs": [
    {
     "name": "stdout",
     "output_type": "stream",
     "text": [
      "Optimization terminated successfully.\n",
      "         Current function value: 0.168135\n",
      "         Iterations 9\n",
      "                           Logit Regression Results                           \n",
      "==============================================================================\n",
      "Dep. Variable:                    CKD   No. Observations:                 3308\n",
      "Model:                          Logit   Df Residuals:                     3292\n",
      "Method:                           MLE   Df Model:                           15\n",
      "Date:                Mon, 08 Jun 2020   Pseudo R-squ.:                  0.2961\n",
      "Time:                        16:36:41   Log-Likelihood:                -556.19\n",
      "converged:                       True   LL-Null:                       -790.21\n",
      "Covariance Type:            nonrobust   LLR p-value:                 3.222e-90\n",
      "===================================================================================\n",
      "                      coef    std err          z      P>|z|      [0.025      0.975]\n",
      "-----------------------------------------------------------------------------------\n",
      "const             -10.1519      0.896    -11.324      0.000     -11.909      -8.395\n",
      "Age                 7.4845      0.761      9.838      0.000       5.993       8.976\n",
      "Hypertension        0.7253      0.213      3.398      0.001       0.307       1.144\n",
      "SBP                -1.1296      0.644     -1.753      0.080      -2.392       0.133\n",
      "Insured             0.2857      0.394      0.724      0.469      -0.487       1.059\n",
      "Racegrpwhite        0.3907      0.182      2.142      0.032       0.033       0.748\n",
      "CVD                 0.7494      0.210      3.572      0.000       0.338       1.161\n",
      "Waist              -0.6805      1.615     -0.421      0.673      -3.845       2.484\n",
      "CareSourceDrHMO     0.1056      0.179      0.590      0.555      -0.245       0.456\n",
      "Diabetes            0.5332      0.195      2.738      0.006       0.152       0.915\n",
      "LDL                 0.8388      0.798      1.051      0.293      -0.725       2.403\n",
      "PVD                 0.7432      0.237      3.142      0.002       0.280       1.207\n",
      "BMI                -2.4575      1.888     -1.302      0.193      -6.158       1.243\n",
      "Female              0.4009      0.245      1.637      0.102      -0.079       0.881\n",
      "Unmarried           0.3345      0.175      1.913      0.056      -0.008       0.677\n",
      "Weight              4.0210      1.812      2.219      0.026       0.470       7.572\n",
      "===================================================================================\n"
     ]
    }
   ],
   "source": [
    "# model8 (comb_prob_col_ori)\n",
    "x = sm.add_constant(X_train_norm[comb_prob_col_ori]) #comb_prob_col_ori\n",
    "model8 = sm.Logit(y_train, x)\n",
    "result8 = model8.fit()\n",
    "print(result8.summary())"
   ]
  },
  {
   "cell_type": "code",
   "execution_count": 451,
   "metadata": {},
   "outputs": [
    {
     "data": {
      "text/plain": [
       "const           9.925672e-30\n",
       "Age             7.730641e-23\n",
       "Hypertension    6.782026e-04\n",
       "Racegrpwhite    3.222904e-02\n",
       "CVD             3.545582e-04\n",
       "Diabetes        6.178174e-03\n",
       "PVD             1.676992e-03\n",
       "Weight          2.645971e-02\n",
       "dtype: float64"
      ]
     },
     "execution_count": 451,
     "metadata": {},
     "output_type": "execute_result"
    }
   ],
   "source": [
    "result8.pvalues[result8.pvalues<0.05]"
   ]
  },
  {
   "cell_type": "code",
   "execution_count": 27,
   "metadata": {},
   "outputs": [],
   "source": [
    "fea_model8=['PVD','Diabetes','Hypertension','Age','Racegrpwhite','Weight','CVD']"
   ]
  },
  {
   "cell_type": "code",
   "execution_count": 453,
   "metadata": {},
   "outputs": [
    {
     "name": "stdout",
     "output_type": "stream",
     "text": [
      "Optimization terminated successfully.\n",
      "         Current function value: 0.169198\n",
      "         Iterations 9\n",
      "                           Logit Regression Results                           \n",
      "==============================================================================\n",
      "Dep. Variable:                    CKD   No. Observations:                 3308\n",
      "Model:                          Logit   Df Residuals:                     3297\n",
      "Method:                           MLE   Df Model:                           10\n",
      "Date:                Mon, 08 Jun 2020   Pseudo R-squ.:                  0.2917\n",
      "Time:                        16:38:51   Log-Likelihood:                -559.71\n",
      "converged:                       True   LL-Null:                       -790.21\n",
      "Covariance Type:            nonrobust   LLR p-value:                 9.377e-93\n",
      "===================================================================================\n",
      "                      coef    std err          z      P>|z|      [0.025      0.975]\n",
      "-----------------------------------------------------------------------------------\n",
      "const              -8.7268      0.647    -13.478      0.000      -9.996      -7.458\n",
      "Hypertension        0.7246      0.211      3.439      0.001       0.312       1.138\n",
      "CareSourceDrHMO     0.1276      0.177      0.722      0.470      -0.219       0.474\n",
      "SBP                -1.1110      0.632     -1.758      0.079      -2.350       0.128\n",
      "Age                 7.0085      0.662     10.592      0.000       5.712       8.305\n",
      "Waist               0.5763      0.632      0.911      0.362      -0.663       1.816\n",
      "Unmarried           0.3435      0.165      2.086      0.037       0.021       0.666\n",
      "Racegrpwhite        0.4626      0.179      2.588      0.010       0.112       0.813\n",
      "PVD                 0.7217      0.235      3.066      0.002       0.260       1.183\n",
      "Diabetes            0.5110      0.193      2.644      0.008       0.132       0.890\n",
      "CVD                 0.7030      0.207      3.396      0.001       0.297       1.109\n",
      "===================================================================================\n"
     ]
    }
   ],
   "source": [
    "# model9 (common_col_ori)\n",
    "x = sm.add_constant(X_train_norm[common_col_ori]) #common_col_ori\n",
    "model9 = sm.Logit(y_train, x)\n",
    "result9 = model9.fit()\n",
    "print(result9.summary())"
   ]
  },
  {
   "cell_type": "code",
   "execution_count": 454,
   "metadata": {},
   "outputs": [
    {
     "data": {
      "text/plain": [
       "const           2.111636e-41\n",
       "Hypertension    5.841875e-04\n",
       "Age             3.260760e-26\n",
       "Unmarried       3.693973e-02\n",
       "Racegrpwhite    9.664309e-03\n",
       "PVD             2.169668e-03\n",
       "Diabetes        8.189741e-03\n",
       "CVD             6.842679e-04\n",
       "dtype: float64"
      ]
     },
     "execution_count": 454,
     "metadata": {},
     "output_type": "execute_result"
    }
   ],
   "source": [
    "result9.pvalues[result9.pvalues<0.05]"
   ]
  },
  {
   "cell_type": "code",
   "execution_count": 422,
   "metadata": {},
   "outputs": [],
   "source": [
    "fea_model9=['PVD','Diabetes','Hypertension','Age','Racegrpwhite','CVD','Unmarried']"
   ]
  },
  {
   "cell_type": "markdown",
   "metadata": {},
   "source": [
    "# EasyEnsemble Modeling & Evaluate Model Performance"
   ]
  },
  {
   "cell_type": "code",
   "execution_count": null,
   "metadata": {},
   "outputs": [],
   "source": [
    "# install -U imbalanced-learn packge if you do not have it\n",
    "!pip install -U imbalanced-learn"
   ]
  },
  {
   "cell_type": "code",
   "execution_count": null,
   "metadata": {},
   "outputs": [],
   "source": [
    "# install scikit-learn packages if you do not have it\n",
    "pip install scikit-learn"
   ]
  },
  {
   "cell_type": "code",
   "execution_count": null,
   "metadata": {},
   "outputs": [],
   "source": [
    "#instanll scikit-plot packges if you do not have it\n",
    "conda install -c conda-forge scikit-plot"
   ]
  },
  {
   "cell_type": "code",
   "execution_count": 29,
   "metadata": {},
   "outputs": [],
   "source": [
    "from imblearn.ensemble import EasyEnsembleClassifier \n",
    "from collections import Counter\n",
    "from sklearn.linear_model import LogisticRegression\n",
    "import scikitplot as skplt"
   ]
  },
  {
   "cell_type": "code",
   "execution_count": 426,
   "metadata": {},
   "outputs": [],
   "source": [
    "# Log + fea_model\n",
    "clf1 = LogisticRegression()\n",
    "eec1 = EasyEnsembleClassifier(base_estimator=clf1,replacement=False,n_estimators=14,random_state=2)\n",
    "eec1.fit(X_train[fea_model], y_train) # choose the features for training and test at the same time\n",
    "y_pred1 = eec1.predict(X_test[fea_model])"
   ]
  },
  {
   "cell_type": "code",
   "execution_count": 427,
   "metadata": {},
   "outputs": [
    {
     "data": {
      "image/png": "[encoded data removed]",
      "text/plain": [
       "<Figure size 576x396 with 2 Axes>"
      ]
     },
     "metadata": {},
     "output_type": "display_data"
    },
    {
     "data": {
      "image/png": "[encoded data removed]",
      "text/plain": [
       "<Figure size 576x396 with 2 Axes>"
      ]
     },
     "metadata": {},
     "output_type": "display_data"
    }
   ],
   "source": [
    "#confusion matrix\n",
    "skplt.metrics.plot_confusion_matrix(y_test, y_pred1, normalize=False)\n",
    "skplt.metrics.plot_confusion_matrix(y_test, y_pred1, normalize=True)\n",
    "plt.show()"
   ]
  },
  {
   "cell_type": "code",
   "execution_count": 428,
   "metadata": {},
   "outputs": [
    {
     "name": "stdout",
     "output_type": "stream",
     "text": [
      "              precision    recall  f1-score   support\n",
      "\n",
      "           0       0.99      0.75      0.86       775\n",
      "           1       0.20      0.92      0.33        53\n",
      "\n",
      "    accuracy                           0.76       828\n",
      "   macro avg       0.60      0.84      0.59       828\n",
      "weighted avg       0.94      0.76      0.82       828\n",
      "\n"
     ]
    }
   ],
   "source": [
    "# Summary report, we should focus on recall and weighted f1-score\n",
    "from sklearn.metrics import classification_report\n",
    "print(classification_report(y_test, y_pred1, labels=[0,1]))"
   ]
  },
  {
   "cell_type": "code",
   "execution_count": 429,
   "metadata": {},
   "outputs": [],
   "source": [
    "# log + fea_model2\n",
    "clf2 = LogisticRegression()\n",
    "eec2 = EasyEnsembleClassifier(base_estimator=clf2,replacement=False,n_estimators=14,random_state=2)\n",
    "eec2.fit(X_train[fea_model2], y_train) # choose the features for training and test at the same time\n",
    "y_pred2 = eec2.predict(X_test[fea_model2])"
   ]
  },
  {
   "cell_type": "code",
   "execution_count": 430,
   "metadata": {},
   "outputs": [
    {
     "name": "stdout",
     "output_type": "stream",
     "text": [
      "              precision    recall  f1-score   support\n",
      "\n",
      "           0       0.99      0.76      0.86       775\n",
      "           1       0.21      0.91      0.33        53\n",
      "\n",
      "    accuracy                           0.77       828\n",
      "   macro avg       0.60      0.83      0.60       828\n",
      "weighted avg       0.94      0.77      0.83       828\n",
      "\n"
     ]
    }
   ],
   "source": [
    "# Summary report, we should focus on recall and weighted f1-score\n",
    "print(classification_report(y_test, y_pred2, labels=[0,1]))"
   ]
  },
  {
   "cell_type": "code",
   "execution_count": 431,
   "metadata": {},
   "outputs": [
    {
     "name": "stdout",
     "output_type": "stream",
     "text": [
      "              precision    recall  f1-score   support\n",
      "\n",
      "           0       1.00      0.76      0.86       775\n",
      "           1       0.21      0.96      0.35        53\n",
      "\n",
      "    accuracy                           0.77       828\n",
      "   macro avg       0.60      0.86      0.61       828\n",
      "weighted avg       0.95      0.77      0.83       828\n",
      "\n"
     ]
    }
   ],
   "source": [
    "# log + fea_model3\n",
    "clf3 = LogisticRegression()\n",
    "eec3 = EasyEnsembleClassifier(base_estimator=clf3,replacement=True,n_estimators=14,random_state=2)\n",
    "eec3.fit(X_train[fea_model3], y_train) # choose the features for training and test at the same time\n",
    "y_pred3 = eec3.predict(X_test[fea_model3])\n",
    "\n",
    "# Summary report, we should focus on recall and weighted f1-score\n",
    "print(classification_report(y_test, y_pred3, labels=[0,1]))"
   ]
  },
  {
   "cell_type": "code",
   "execution_count": 432,
   "metadata": {},
   "outputs": [
    {
     "name": "stdout",
     "output_type": "stream",
     "text": [
      "              precision    recall  f1-score   support\n",
      "\n",
      "           0       0.99      0.74      0.85       775\n",
      "           1       0.19      0.91      0.32        53\n",
      "\n",
      "    accuracy                           0.75       828\n",
      "   macro avg       0.59      0.82      0.58       828\n",
      "weighted avg       0.94      0.75      0.82       828\n",
      "\n"
     ]
    }
   ],
   "source": [
    "# log_std + fea_model4\n",
    "clf4 = LogisticRegression()\n",
    "eec4 = EasyEnsembleClassifier(base_estimator=clf4,replacement=False,n_estimators=14,random_state=2)\n",
    "eec4.fit(X_train_std[fea_model4], y_train) # choose the features for training and test at the same time\n",
    "y_pred4 = eec4.predict(X_test_std[fea_model4])\n",
    "\n",
    "# Summary report, we should focus on recall and weighted f1-score\n",
    "print(classification_report(y_test, y_pred4, labels=[0,1]))"
   ]
  },
  {
   "cell_type": "code",
   "execution_count": 433,
   "metadata": {},
   "outputs": [
    {
     "name": "stdout",
     "output_type": "stream",
     "text": [
      "              precision    recall  f1-score   support\n",
      "\n",
      "           0       0.99      0.75      0.86       775\n",
      "           1       0.20      0.92      0.33        53\n",
      "\n",
      "    accuracy                           0.76       828\n",
      "   macro avg       0.60      0.84      0.60       828\n",
      "weighted avg       0.94      0.76      0.82       828\n",
      "\n"
     ]
    }
   ],
   "source": [
    "# log_std + fea_model5\n",
    "clf5 = LogisticRegression()\n",
    "eec5 = EasyEnsembleClassifier(base_estimator=clf5,replacement=False,n_estimators=14,random_state=2)\n",
    "eec5.fit(X_train_std[fea_model5], y_train) # choose the features for training and test at the same time\n",
    "y_pred5 = eec5.predict(X_test_std[fea_model5])\n",
    "\n",
    "# Summary report, we should focus on recall and weighted f1-score\n",
    "print(classification_report(y_test, y_pred5, labels=[0,1]))"
   ]
  },
  {
   "cell_type": "code",
   "execution_count": 434,
   "metadata": {},
   "outputs": [
    {
     "name": "stdout",
     "output_type": "stream",
     "text": [
      "              precision    recall  f1-score   support\n",
      "\n",
      "           0       0.99      0.75      0.86       775\n",
      "           1       0.20      0.92      0.33        53\n",
      "\n",
      "    accuracy                           0.76       828\n",
      "   macro avg       0.60      0.84      0.59       828\n",
      "weighted avg       0.94      0.76      0.82       828\n",
      "\n"
     ]
    }
   ],
   "source": [
    "# log_std + fea_model6\n",
    "clf6 = LogisticRegression()\n",
    "eec6 = EasyEnsembleClassifier(base_estimator=clf6,replacement=False,n_estimators=14,random_state=2)\n",
    "eec6.fit(X_train_std[fea_model6], y_train) # choose the features for training and test at the same time\n",
    "y_pred6 = eec6.predict(X_test_std[fea_model6])\n",
    "\n",
    "# Summary report, we should focus on recall and weighted f1-score\n",
    "print(classification_report(y_test, y_pred6, labels=[0,1]))"
   ]
  },
  {
   "cell_type": "code",
   "execution_count": 435,
   "metadata": {},
   "outputs": [
    {
     "name": "stdout",
     "output_type": "stream",
     "text": [
      "              precision    recall  f1-score   support\n",
      "\n",
      "           0       0.99      0.75      0.86       775\n",
      "           1       0.21      0.94      0.34        53\n",
      "\n",
      "    accuracy                           0.76       828\n",
      "   macro avg       0.60      0.85      0.60       828\n",
      "weighted avg       0.94      0.76      0.82       828\n",
      "\n"
     ]
    }
   ],
   "source": [
    "# log_norm + fea_model7\n",
    "clf7 = LogisticRegression()\n",
    "eec7 = EasyEnsembleClassifier(base_estimator=clf7,replacement=False,n_estimators=14,random_state=2)\n",
    "eec7.fit(X_train_norm[fea_model7], y_train) # choose the features for training and test at the same time\n",
    "y_pred7 = eec7.predict(X_test_norm[fea_model7])\n",
    "\n",
    "# Summary report, we should focus on recall and weighted f1-score\n",
    "print(classification_report(y_test, y_pred7, labels=[0,1]))"
   ]
  },
  {
   "cell_type": "code",
   "execution_count": 436,
   "metadata": {},
   "outputs": [
    {
     "name": "stdout",
     "output_type": "stream",
     "text": [
      "              precision    recall  f1-score   support\n",
      "\n",
      "           0       0.99      0.77      0.87       775\n",
      "           1       0.22      0.94      0.35        53\n",
      "\n",
      "    accuracy                           0.78       828\n",
      "   macro avg       0.61      0.86      0.61       828\n",
      "weighted avg       0.95      0.78      0.83       828\n",
      "\n"
     ]
    }
   ],
   "source": [
    "# log_norm + fea_model8\n",
    "clf8 = LogisticRegression()\n",
    "eec8 = EasyEnsembleClassifier(base_estimator=clf8,replacement=False,n_estimators=14,random_state=2)\n",
    "eec8.fit(X_train_norm[fea_model8], y_train) # choose the features for training and test at the same time\n",
    "y_pred8 = eec8.predict(X_test_norm[fea_model8])\n",
    "\n",
    "# Summary report, we should focus on recall and weighted f1-score\n",
    "print(classification_report(y_test, y_pred8, labels=[0,1]))"
   ]
  },
  {
   "cell_type": "code",
   "execution_count": 437,
   "metadata": {},
   "outputs": [
    {
     "name": "stdout",
     "output_type": "stream",
     "text": [
      "              precision    recall  f1-score   support\n",
      "\n",
      "           0       1.00      0.77      0.87       775\n",
      "           1       0.22      0.94      0.36        53\n",
      "\n",
      "    accuracy                           0.78       828\n",
      "   macro avg       0.61      0.86      0.61       828\n",
      "weighted avg       0.95      0.78      0.84       828\n",
      "\n"
     ]
    }
   ],
   "source": [
    "# log_norm + fea_model9\n",
    "clf9 = LogisticRegression()\n",
    "eec9 = EasyEnsembleClassifier(base_estimator=clf9,replacement=False,n_estimators=14,random_state=2)\n",
    "eec9.fit(X_train_norm[fea_model9], y_train) # choose the features for training and test at the same time\n",
    "y_pred9 = eec9.predict(X_test_norm[fea_model9])\n",
    "\n",
    "# Summary report, we should focus on recall and weighted f1-score\n",
    "print(classification_report(y_test, y_pred9, labels=[0,1]))"
   ]
  },
  {
   "cell_type": "markdown",
   "metadata": {},
   "source": [
    "# Compare Three Better Models"
   ]
  },
  {
   "cell_type": "code",
   "execution_count": null,
   "metadata": {},
   "outputs": [],
   "source": [
    "# it is concluded that clf3,8,9 are better than other model, \n",
    "# since they have higher 'wighted f1-score' and 'recall'\n",
    "# so we only foucs on comparing the three models "
   ]
  },
  {
   "cell_type": "code",
   "execution_count": 438,
   "metadata": {},
   "outputs": [],
   "source": [
    "# get the probabilities\n",
    "y_pred_prob3 = eec3.predict_proba(X_test[fea_model3])\n",
    "y_pred_prob8 = eec8.predict_proba(X_test_norm[fea_model8])\n",
    "y_pred_prob9 = eec9.predict_proba(X_test_norm[fea_model9]) "
   ]
  },
  {
   "cell_type": "code",
   "execution_count": 439,
   "metadata": {},
   "outputs": [],
   "source": [
    "# only get CKD=1 probabilities\n",
    "prob3=eec3.predict_proba(X_test_norm[fea_model3])[::,1]\n",
    "prob8=eec8.predict_proba(X_test_norm[fea_model8])[::,1]\n",
    "prob9=eec9.predict_proba(X_test_norm[fea_model9])[::,1]"
   ]
  },
  {
   "cell_type": "code",
   "execution_count": 440,
   "metadata": {},
   "outputs": [],
   "source": [
    "# ROC\n",
    "from sklearn.metrics import roc_curve, roc_auc_score\n",
    "\n",
    "result_table = pd.DataFrame(columns=['fpr','tpr','auc'])\n",
    "probs=[prob3,prob8,prob9]\n",
    "for prob in probs:        \n",
    "    fpr, tpr, _ = roc_curve(y_test,  prob)\n",
    "    auc = roc_auc_score(y_test, prob)\n",
    "    \n",
    "    result_table = result_table.append({'fpr':fpr, \n",
    "                                        'tpr':tpr, \n",
    "                                        'auc':auc}, ignore_index=True)"
   ]
  },
  {
   "cell_type": "code",
   "execution_count": 441,
   "metadata": {},
   "outputs": [
    {
     "data": {
      "text/html": [
       "<div>\n",
       "<style scoped>\n",
       "    .dataframe tbody tr th:only-of-type {\n",
       "        vertical-align: middle;\n",
       "    }\n",
       "\n",
       "    .dataframe tbody tr th {\n",
       "        vertical-align: top;\n",
       "    }\n",
       "\n",
       "    .dataframe thead th {\n",
       "        text-align: right;\n",
       "    }\n",
       "</style>\n",
       "<table border=\"1\" class=\"dataframe\">\n",
       "  <thead>\n",
       "    <tr style=\"text-align: right;\">\n",
       "      <th></th>\n",
       "      <th>fpr</th>\n",
       "      <th>tpr</th>\n",
       "      <th>auc</th>\n",
       "    </tr>\n",
       "  </thead>\n",
       "  <tbody>\n",
       "    <tr>\n",
       "      <th>eec_log_fea3</th>\n",
       "      <td>[0.0, 0.0012903225806451613, 0.001290322580645...</td>\n",
       "      <td>[0.0, 0.0, 0.07547169811320754, 0.075471698113...</td>\n",
       "      <td>0.915752</td>\n",
       "    </tr>\n",
       "    <tr>\n",
       "      <th>eec_log_norm_fea8</th>\n",
       "      <td>[0.0, 0.0012903225806451613, 0.001290322580645...</td>\n",
       "      <td>[0.0, 0.0, 0.05660377358490566, 0.056603773584...</td>\n",
       "      <td>0.916421</td>\n",
       "    </tr>\n",
       "    <tr>\n",
       "      <th>eec_log_norm_fea9</th>\n",
       "      <td>[0.0, 0.0012903225806451613, 0.001290322580645...</td>\n",
       "      <td>[0.0, 0.0, 0.07547169811320754, 0.075471698113...</td>\n",
       "      <td>0.918357</td>\n",
       "    </tr>\n",
       "  </tbody>\n",
       "</table>\n",
       "</div>"
      ],
      "text/plain": [
       "                                                                 fpr  \\\n",
       "eec_log_fea3       [0.0, 0.0012903225806451613, 0.001290322580645...   \n",
       "eec_log_norm_fea8  [0.0, 0.0012903225806451613, 0.001290322580645...   \n",
       "eec_log_norm_fea9  [0.0, 0.0012903225806451613, 0.001290322580645...   \n",
       "\n",
       "                                                                 tpr       auc  \n",
       "eec_log_fea3       [0.0, 0.0, 0.07547169811320754, 0.075471698113...  0.915752  \n",
       "eec_log_norm_fea8  [0.0, 0.0, 0.05660377358490566, 0.056603773584...  0.916421  \n",
       "eec_log_norm_fea9  [0.0, 0.0, 0.07547169811320754, 0.075471698113...  0.918357  "
      ]
     },
     "execution_count": 441,
     "metadata": {},
     "output_type": "execute_result"
    }
   ],
   "source": [
    "result_table.index=['eec_log_fea3','eec_log_norm_fea8','eec_log_norm_fea9']\n",
    "result_table"
   ]
  },
  {
   "cell_type": "code",
   "execution_count": 442,
   "metadata": {},
   "outputs": [
    {
     "data": {
      "image/png": "[encoded data removed]",
      "text/plain": [
       "<Figure size 576x432 with 1 Axes>"
      ]
     },
     "metadata": {},
     "output_type": "display_data"
    }
   ],
   "source": [
    "# plot ROC\n",
    "# eec9 is slighly better than the other two models, we probabaly choose eec9\n",
    "# However, if we want to have a 100% recall, eec3 is better than other two\n",
    "# since it has the lowest FPR when the recall is 100% \n",
    "# in this case, we choose the eec since it has the highest AUC\n",
    "fig = plt.figure(figsize=(8,6))\n",
    "\n",
    "for i in result_table.index:\n",
    "    plt.plot(result_table.loc[i]['fpr'], \n",
    "             result_table.loc[i]['tpr'], \n",
    "             label=\"{}, AUC={:.3f}\".format(i, result_table.loc[i]['auc']))\n",
    "    \n",
    "plt.plot([0,1], [0,1], color='orange', linestyle='--')\n",
    "\n",
    "plt.xticks(np.arange(0.0, 1.1, step=0.1))\n",
    "plt.xlabel(\"Flase Positive Rate\", fontsize=15)\n",
    "\n",
    "plt.yticks(np.arange(0.0, 1.1, step=0.1))\n",
    "plt.ylabel(\"True Positive Rate\", fontsize=15)\n",
    "\n",
    "plt.title('ROC Curve Analysis', fontweight='bold', fontsize=15)\n",
    "plt.legend(prop={'size':13}, loc='lower right')\n",
    "\n",
    "plt.show()"
   ]
  },
  {
   "cell_type": "code",
   "execution_count": 369,
   "metadata": {},
   "outputs": [],
   "source": [
    "y_score3=eec3.decision_function(X_test[fea_model3])\n",
    "y_score8=eec8.decision_function(X_test[fea_model8])\n",
    "y_score9=eec9.decision_function(X_test[fea_model9])"
   ]
  },
  {
   "cell_type": "code",
   "execution_count": null,
   "metadata": {},
   "outputs": [],
   "source": [
    "from sklearn.metrics import average_precision_score\n",
    "from sklearn.metrics import precision_recall_curve\n",
    "import pylab as pl\n",
    "\n",
    "precisions = []\n",
    "recalls = []\n",
    "average_precisions=[]\n",
    "y_scores=[y_score3,y_score8,y_score9]\n",
    "for y_score in y_scores:\n",
    "    precision, recall, _= precision_recall_curve(y_test,y_score)\n",
    "    precisions.append(precision)\n",
    "    recalls.append(recall)\n",
    "# Plot Precision-Recall curve\n",
    "pl.clf()\n",
    "pl.plot(recalls, precisions, label='Precision-Recall curve')\n",
    "pl.xlabel('Recall')\n",
    "pl.ylabel('Precision')\n",
    "pl.ylim([0.0, 1.05])\n",
    "pl.xlim([0.0, 1.0])\n",
    "pl.legend(loc=\"lower left\")\n",
    "pl.show()"
   ]
  },
  {
   "cell_type": "code",
   "execution_count": null,
   "metadata": {},
   "outputs": [],
   "source": [
    "# Plot Precision-Recall curve\n",
    "pl.clf()\n",
    "pl.plot(recall, precision, label='Precision-Recall curve')\n",
    "pl.xlabel('Recall')\n",
    "pl.ylabel('Precision')\n",
    "pl.ylim([0.0, 1.05])\n",
    "pl.xlim([0.0, 1.0])\n",
    "pl.title('Precision-Recall example: AUC={0:0.2f}'.format(average_precision[0]))\n",
    "pl.legend(loc=\"lower left\")\n",
    "pl.show()"
   ]
  },
  {
   "cell_type": "markdown",
   "metadata": {},
   "source": [
    "# Model interpretation"
   ]
  },
  {
   "cell_type": "code",
   "execution_count": 295,
   "metadata": {},
   "outputs": [
    {
     "data": {
      "text/plain": [
       "array([[0.67519141, 0.73521228, 0.93683174, 4.12592714, 0.59355885,\n",
       "        0.873273  , 0.25929036]])"
      ]
     },
     "execution_count": 295,
     "metadata": {},
     "output_type": "execute_result"
    }
   ],
   "source": [
    "# get the coef of each features\n",
    "coefs = []\n",
    "for pipeline in eec9.estimators_:\n",
    "    coefs.append(pipeline[1].coef_)\n",
    "coefs = np.array(coefs).mean(axis=0)\n",
    "coefs"
   ]
  },
  {
   "cell_type": "code",
   "execution_count": 296,
   "metadata": {},
   "outputs": [
    {
     "data": {
      "text/html": [
       "<div>\n",
       "<style scoped>\n",
       "    .dataframe tbody tr th:only-of-type {\n",
       "        vertical-align: middle;\n",
       "    }\n",
       "\n",
       "    .dataframe tbody tr th {\n",
       "        vertical-align: top;\n",
       "    }\n",
       "\n",
       "    .dataframe thead th {\n",
       "        text-align: right;\n",
       "    }\n",
       "</style>\n",
       "<table border=\"1\" class=\"dataframe\">\n",
       "  <thead>\n",
       "    <tr style=\"text-align: right;\">\n",
       "      <th></th>\n",
       "      <th>features</th>\n",
       "      <th>coef</th>\n",
       "    </tr>\n",
       "  </thead>\n",
       "  <tbody>\n",
       "    <tr>\n",
       "      <th>0</th>\n",
       "      <td>PVD</td>\n",
       "      <td>0.675191</td>\n",
       "    </tr>\n",
       "    <tr>\n",
       "      <th>1</th>\n",
       "      <td>Diabetes</td>\n",
       "      <td>0.735212</td>\n",
       "    </tr>\n",
       "    <tr>\n",
       "      <th>2</th>\n",
       "      <td>Hypertension</td>\n",
       "      <td>0.936832</td>\n",
       "    </tr>\n",
       "    <tr>\n",
       "      <th>3</th>\n",
       "      <td>Age</td>\n",
       "      <td>4.125927</td>\n",
       "    </tr>\n",
       "    <tr>\n",
       "      <th>4</th>\n",
       "      <td>Racegrpwhite</td>\n",
       "      <td>0.593559</td>\n",
       "    </tr>\n",
       "    <tr>\n",
       "      <th>5</th>\n",
       "      <td>CVD</td>\n",
       "      <td>0.873273</td>\n",
       "    </tr>\n",
       "    <tr>\n",
       "      <th>6</th>\n",
       "      <td>Unmarried</td>\n",
       "      <td>0.259290</td>\n",
       "    </tr>\n",
       "  </tbody>\n",
       "</table>\n",
       "</div>"
      ],
      "text/plain": [
       "       features      coef\n",
       "0           PVD  0.675191\n",
       "1      Diabetes  0.735212\n",
       "2  Hypertension  0.936832\n",
       "3           Age  4.125927\n",
       "4  Racegrpwhite  0.593559\n",
       "5           CVD  0.873273\n",
       "6     Unmarried  0.259290"
      ]
     },
     "execution_count": 296,
     "metadata": {},
     "output_type": "execute_result"
    }
   ],
   "source": [
    "# it seems that 'Unmarried' has a minor effect, mw can try to remove it\n",
    "pd.DataFrame({'features':fea_model9,'coef':list(coefs.ravel())})"
   ]
  },
  {
   "cell_type": "code",
   "execution_count": 444,
   "metadata": {},
   "outputs": [],
   "source": [
    "# choose 6 features PVD,Diabetes,Hypertension,Age,Racegrpwhite,CVD,\n",
    "useful_fea=['PVD','Diabetes','Hypertension','Age','Racegrpwhite','CVD']"
   ]
  },
  {
   "cell_type": "code",
   "execution_count": 448,
   "metadata": {},
   "outputs": [
    {
     "name": "stdout",
     "output_type": "stream",
     "text": [
      "              precision    recall  f1-score   support\n",
      "\n",
      "           0       0.99      0.76      0.86       775\n",
      "           1       0.21      0.92      0.34        53\n",
      "\n",
      "    accuracy                           0.77       828\n",
      "   macro avg       0.60      0.84      0.60       828\n",
      "weighted avg       0.94      0.77      0.83       828\n",
      "\n"
     ]
    }
   ],
   "source": [
    "# remove 'Unmarried to see the performance', it is still very good\n",
    "eec9.fit(X_train_norm[useful_fea], y_train) \n",
    "pred = eec.predict(X_test_norm[useful_fea])\n",
    "print(classification_report(y_test, pred, labels=[0,1]))"
   ]
  },
  {
   "cell_type": "code",
   "execution_count": null,
   "metadata": {},
   "outputs": [],
   "source": [
    "# get the prob of six features\n",
    "prob_final=eec9.predict_proba(X_test_norm[useful_fea])[::,1]"
   ]
  },
  {
   "cell_type": "code",
   "execution_count": 476,
   "metadata": {},
   "outputs": [],
   "source": [
    "#roc \n",
    "probs=[prob3,prob8,prob9,prob_final]\n",
    "roc_table=pd.DataFrame(columns=['tpr','fpr','auc'])\n",
    "\n",
    "for prob in probs:\n",
    "    fpr,tpr,_=roc_curve(y_test,prob)\n",
    "    auc=roc_auc_score(y_test,prob)\n",
    "    roc_table=roc_table.append({'fpr':fpr,'tpr':tpr,'auc':auc},ignore_index=True)\n",
    "    roc_table.index=['log_fea3','log_norm_fea8','log_norm_fea9','log_norm_fea_final']"
   ]
  },
  {
   "cell_type": "code",
   "execution_count": 479,
   "metadata": {},
   "outputs": [
    {
     "data": {
      "image/png": "[encoded data removed]",
      "text/plain": [
       "<Figure size 576x432 with 1 Axes>"
      ]
     },
     "metadata": {},
     "output_type": "display_data"
    }
   ],
   "source": [
    "# plot roc\n",
    "# still get 0.916 auc\n",
    "fig = plt.figure(figsize=(8,6))\n",
    "\n",
    "for i in roc_table.index:\n",
    "    plt.plot(roc_table.loc[i]['fpr'], \n",
    "             roc_table.loc[i]['tpr'], \n",
    "             label=\"{}, AUC={:.3f}\".format(i, roc_table.loc[i]['auc']))\n",
    "    \n",
    "plt.plot([0,1], [0,1], color='orange', linestyle='--')\n",
    "\n",
    "plt.xticks(np.arange(0.0, 1.1, step=0.1))\n",
    "plt.xlabel(\"Flase Positive Rate\", fontsize=15)\n",
    "\n",
    "plt.yticks(np.arange(0.0, 1.1, step=0.1))\n",
    "plt.ylabel(\"True Positive Rate\", fontsize=15)\n",
    "\n",
    "plt.title('ROC Curve Analysis', fontweight='bold', fontsize=15)\n",
    "plt.legend(prop={'size':13}, loc='lower right')\n",
    "\n",
    "plt.show()"
   ]
  },
  {
   "cell_type": "markdown",
   "metadata": {},
   "source": [
    "# Conculsion"
   ]
  },
  {
   "cell_type": "code",
   "execution_count": 452,
   "metadata": {},
   "outputs": [
    {
     "data": {
      "text/plain": [
       "array([[0.68886623, 0.73287664, 0.92574474, 4.18550776, 0.55656243,\n",
       "        0.86853706]])"
      ]
     },
     "execution_count": 452,
     "metadata": {},
     "output_type": "execute_result"
    }
   ],
   "source": [
    "# get the average coefficient of each six features\n",
    "coefs = []\n",
    "for pipeline in eec9.estimators_:\n",
    "    coefs.append(pipeline[1].coef_)\n",
    "coefs = np.array(coefs).mean(axis=0)\n",
    "coefs"
   ]
  },
  {
   "cell_type": "code",
   "execution_count": 453,
   "metadata": {},
   "outputs": [
    {
     "data": {
      "text/html": [
       "<div>\n",
       "<style scoped>\n",
       "    .dataframe tbody tr th:only-of-type {\n",
       "        vertical-align: middle;\n",
       "    }\n",
       "\n",
       "    .dataframe tbody tr th {\n",
       "        vertical-align: top;\n",
       "    }\n",
       "\n",
       "    .dataframe thead th {\n",
       "        text-align: right;\n",
       "    }\n",
       "</style>\n",
       "<table border=\"1\" class=\"dataframe\">\n",
       "  <thead>\n",
       "    <tr style=\"text-align: right;\">\n",
       "      <th></th>\n",
       "      <th>features</th>\n",
       "      <th>coef</th>\n",
       "    </tr>\n",
       "  </thead>\n",
       "  <tbody>\n",
       "    <tr>\n",
       "      <th>0</th>\n",
       "      <td>PVD</td>\n",
       "      <td>0.688866</td>\n",
       "    </tr>\n",
       "    <tr>\n",
       "      <th>1</th>\n",
       "      <td>Diabetes</td>\n",
       "      <td>0.732877</td>\n",
       "    </tr>\n",
       "    <tr>\n",
       "      <th>2</th>\n",
       "      <td>Hypertension</td>\n",
       "      <td>0.925745</td>\n",
       "    </tr>\n",
       "    <tr>\n",
       "      <th>3</th>\n",
       "      <td>Age</td>\n",
       "      <td>4.185508</td>\n",
       "    </tr>\n",
       "    <tr>\n",
       "      <th>4</th>\n",
       "      <td>Racegrpwhite</td>\n",
       "      <td>0.556562</td>\n",
       "    </tr>\n",
       "    <tr>\n",
       "      <th>5</th>\n",
       "      <td>CVD</td>\n",
       "      <td>0.868537</td>\n",
       "    </tr>\n",
       "  </tbody>\n",
       "</table>\n",
       "</div>"
      ],
      "text/plain": [
       "       features      coef\n",
       "0           PVD  0.688866\n",
       "1      Diabetes  0.732877\n",
       "2  Hypertension  0.925745\n",
       "3           Age  4.185508\n",
       "4  Racegrpwhite  0.556562\n",
       "5           CVD  0.868537"
      ]
     },
     "execution_count": 453,
     "metadata": {},
     "output_type": "execute_result"
    }
   ],
   "source": [
    "pd.DataFrame({'features':useful_fea,'coef':list(coefs.ravel())})"
   ]
  },
  {
   "cell_type": "code",
   "execution_count": 454,
   "metadata": {},
   "outputs": [
    {
     "name": "stdout",
     "output_type": "stream",
     "text": [
      "[-4.20893734]\n"
     ]
    }
   ],
   "source": [
    "# get the average intercept\n",
    "intercepts = []\n",
    "for pipeline in eec9.estimators_:\n",
    "    intercepts.append(pipeline[1].intercept_)\n",
    "intercepts = np.array(intercepts).mean(axis=0)\n",
    "print(intercepts)"
   ]
  },
  {
   "cell_type": "code",
   "execution_count": null,
   "metadata": {},
   "outputs": [],
   "source": [
    "#Formular intepretation\n",
    "# ln(p/1-p)= -4.20893734 + PVD * 0.68886623 + Diabetes * 0.73287664 + Hypertension * 0.92574474 \n",
    "#                                                                   + Age(Log+Norm) * 4.18550776  \n",
    "#                                                                    + Racegrpwhite * 0.55656243 \n",
    "#                                                                     + CVD * 0.86853706"
   ]
  },
  {
   "cell_type": "code",
   "execution_count": null,
   "metadata": {},
   "outputs": [],
   "source": [
    "# install yellowbrick packge if you don't have it\n",
    "pip install yellowbrick"
   ]
  },
  {
   "cell_type": "code",
   "execution_count": 451,
   "metadata": {},
   "outputs": [
    {
     "name": "stderr",
     "output_type": "stream",
     "text": [
      "/Users/qiqintian/opt/anaconda3/lib/python3.7/site-packages/sklearn/base.py:213: FutureWarning: From version 0.24, get_params will raise an AttributeError if a parameter cannot be retrieved as an instance attribute. Previously it would return None.\n",
      "  \n"
     ]
    },
    {
     "data": {
      "image/png": "[encoded data removed]",
      "text/plain": [
       "<Figure size 576x396 with 1 Axes>"
      ]
     },
     "metadata": {},
     "output_type": "display_data"
    },
    {
     "data": {
      "text/plain": [
       "<matplotlib.axes._subplots.AxesSubplot at 0x1a273a5490>"
      ]
     },
     "execution_count": 451,
     "metadata": {},
     "output_type": "execute_result"
    }
   ],
   "source": [
    "# plot PRC Curve for different business application depending on different needs\n",
    "# for keeping a balance btween precision and recall\n",
    "from yellowbrick.classifier import PrecisionRecallCurve\n",
    "viz = PrecisionRecallCurve(eec9)\n",
    "viz.fit(X_train_norm[useful_fea], y_train)\n",
    "viz.score(X_test[useful_fea], y_test)\n",
    "viz.show()"
   ]
  }
 ],
 "metadata": {
  "kernelspec": {
   "display_name": "Python 3",
   "language": "python",
   "name": "python3"
  },
  "language_info": {
   "codemirror_mode": {
    "name": "ipython",
    "version": 3
   },
   "file_extension": ".py",
   "mimetype": "text/x-python",
   "name": "python",
   "nbconvert_exporter": "python",
   "pygments_lexer": "ipython3",
   "version": "3.7.6"
  }
 },
 "nbformat": 4,
 "nbformat_minor": 4
}
